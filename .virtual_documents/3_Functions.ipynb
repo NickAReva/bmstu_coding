


def hypot(x, y):
    return (x**2 + y**2)**0.5

hypot(3,4)





def f1():
    print('f1')
    def f2():
        print('Hello f2!')
    return f2

print (f1) # выводит тип объекта по сути
print(f1()) # выводит выполнение внутренних команд и тип вложенной функции (матрешка)
print(f1()()) # выводит выполнение внутренних команд и вложенной функции (матрешка) и результат None





def example(first, second = 3, third = 5):
    print(first)
    print(second)
    print(third)

example('my thing', second = 5)





def func(arg, arg2):
    arg = 'Inside'
    arg2 = 4
    print(arg)
    print(arg2)
    print("=========")

var1 = 'Outside'
var2 = 3
print(var1)
print(var2)
func(var1, var2)
print(var1)
print(var2)



salaries = (40000, 30000, 25000, 42000)

def f(salaries):
    for (i, salary) in enumerate(sorted(salaries)):
        print(f"Зарплата за {i+1}-й месяц - {salary}")

f(salaries)
print(enumerate(salaries))





def changeme(mlist, mdict):
    mlist.append([1, 2, 3, 4])
    mdict[1] = "ccc"
    print("List inside: ", mlist)
    print("Dict inside: ", mdict)
    print("====================")

l1 = [10, 20, 30]
d1 = {1:"a", 2:"b"}
print("List outside: ", l1)
print("Dict outside: ", d1)
print("====================")
changeme(l1, d1)
print("List outside: ", l1)
print("Dict outside: ", d1)



salaries = [40000, 30000, 25000, 42000]

def f(salaries):
    salaries.sort()
    for (i, salary) in enumerate(salaries):
        print(f"Зарплата за {i+1}-й месяц - {salary}")

print("Before", salaries)
f(salaries)
print("After", salaries)








def describe_person(first_name, last_name, age):
    print("First name: %s" % first_name.title())
    print("Last name: %s" % last_name.title())
    print("Age: %d/n" % age)

describe_person("john", "fikling", age = 53)





def describe_person_m(first_name, last_name = "romero", age = 78):
    print("First name: %s" % first_name.title())
    print("Last name: %s" % last_name.title())
    print("Age: %d\n" % age)

describe_person_m("john")





def print_order(*order, **info):
    print("МУзыка")
    for key, value in sorted(info.items()):
        print(key, ": ", value)

    print("You choose: ")
    for item in order:
        print(" - ", item)

songs = ("a", "b", "c")
authors = {"author": "Sar", "birthday": "06/06/2020"}

print_order("a", "b", "c", author = "Sar", birthday = "06/06/2020")
        



