{
 "cells": [
  {
   "cell_type": "code",
   "execution_count": 1,
   "metadata": {
    "id": "5wEtLx7zYrYi"
   },
   "outputs": [],
   "source": [
    "import pandas as pd\n",
    "import numpy as np"
   ]
  },
  {
   "cell_type": "code",
   "execution_count": 2,
   "metadata": {
    "colab": {
     "base_uri": "https://localhost:8080/"
    },
    "id": "BMPc-tWPY1ih",
    "outputId": "ede32c68-b650-438b-aed9-0b30fbe381c4"
   },
   "outputs": [
    {
     "data": {
      "text/plain": [
       "array([0, 1, 2, 3, 4, 5, 6, 7, 8, 9])"
      ]
     },
     "execution_count": 2,
     "metadata": {},
     "output_type": "execute_result"
    }
   ],
   "source": [
    "np.arange(10)"
   ]
  },
  {
   "cell_type": "code",
   "execution_count": 3,
   "metadata": {
    "colab": {
     "base_uri": "https://localhost:8080/"
    },
    "id": "jNZdKoCSY_wh",
    "outputId": "27d7efa5-bf99-496d-ef78-14b507dbbfa9"
   },
   "outputs": [
    {
     "data": {
      "text/plain": [
       "array([[   0,    1,    2,    3],\n",
       "       [   4,    5,    6,    7],\n",
       "       [   8,    9,   10,   11],\n",
       "       ...,\n",
       "       [3540, 3541, 3542, 3543],\n",
       "       [3544, 3545, 3546, 3547],\n",
       "       [3548, 3549, 3550, 3551]])"
      ]
     },
     "execution_count": 3,
     "metadata": {},
     "output_type": "execute_result"
    }
   ],
   "source": [
    "a = np.arange(4 * 888).reshape(888, 4)\n",
    "a"
   ]
  },
  {
   "cell_type": "code",
   "execution_count": 4,
   "metadata": {
    "colab": {
     "base_uri": "https://localhost:8080/"
    },
    "id": "4sWaKtXfZMGT",
    "outputId": "39484486-d6ce-4b1d-fa64-87aff7cb07ae"
   },
   "outputs": [
    {
     "data": {
      "text/plain": [
       "['A', 'B', 'C', 'D']"
      ]
     },
     "execution_count": 4,
     "metadata": {},
     "output_type": "execute_result"
    }
   ],
   "source": [
    "a = a + 1\n",
    "list('ABCD')"
   ]
  },
  {
   "cell_type": "code",
   "execution_count": 5,
   "metadata": {
    "colab": {
     "base_uri": "https://localhost:8080/",
     "height": 423
    },
    "id": "fyhha3R4ZVxP",
    "outputId": "1be9f85b-ddc0-4477-e5df-7c4a3c3594b1"
   },
   "outputs": [
    {
     "data": {
      "text/html": [
       "<div>\n",
       "<style scoped>\n",
       "    .dataframe tbody tr th:only-of-type {\n",
       "        vertical-align: middle;\n",
       "    }\n",
       "\n",
       "    .dataframe tbody tr th {\n",
       "        vertical-align: top;\n",
       "    }\n",
       "\n",
       "    .dataframe thead th {\n",
       "        text-align: right;\n",
       "    }\n",
       "</style>\n",
       "<table border=\"1\" class=\"dataframe\">\n",
       "  <thead>\n",
       "    <tr style=\"text-align: right;\">\n",
       "      <th></th>\n",
       "      <th>A</th>\n",
       "      <th>B</th>\n",
       "      <th>C</th>\n",
       "      <th>D</th>\n",
       "    </tr>\n",
       "  </thead>\n",
       "  <tbody>\n",
       "    <tr>\n",
       "      <th>0</th>\n",
       "      <td>1</td>\n",
       "      <td>2</td>\n",
       "      <td>3</td>\n",
       "      <td>4</td>\n",
       "    </tr>\n",
       "    <tr>\n",
       "      <th>1</th>\n",
       "      <td>5</td>\n",
       "      <td>6</td>\n",
       "      <td>7</td>\n",
       "      <td>8</td>\n",
       "    </tr>\n",
       "    <tr>\n",
       "      <th>2</th>\n",
       "      <td>9</td>\n",
       "      <td>10</td>\n",
       "      <td>11</td>\n",
       "      <td>12</td>\n",
       "    </tr>\n",
       "    <tr>\n",
       "      <th>3</th>\n",
       "      <td>13</td>\n",
       "      <td>14</td>\n",
       "      <td>15</td>\n",
       "      <td>16</td>\n",
       "    </tr>\n",
       "    <tr>\n",
       "      <th>4</th>\n",
       "      <td>17</td>\n",
       "      <td>18</td>\n",
       "      <td>19</td>\n",
       "      <td>20</td>\n",
       "    </tr>\n",
       "    <tr>\n",
       "      <th>...</th>\n",
       "      <td>...</td>\n",
       "      <td>...</td>\n",
       "      <td>...</td>\n",
       "      <td>...</td>\n",
       "    </tr>\n",
       "    <tr>\n",
       "      <th>883</th>\n",
       "      <td>3533</td>\n",
       "      <td>3534</td>\n",
       "      <td>3535</td>\n",
       "      <td>3536</td>\n",
       "    </tr>\n",
       "    <tr>\n",
       "      <th>884</th>\n",
       "      <td>3537</td>\n",
       "      <td>3538</td>\n",
       "      <td>3539</td>\n",
       "      <td>3540</td>\n",
       "    </tr>\n",
       "    <tr>\n",
       "      <th>885</th>\n",
       "      <td>3541</td>\n",
       "      <td>3542</td>\n",
       "      <td>3543</td>\n",
       "      <td>3544</td>\n",
       "    </tr>\n",
       "    <tr>\n",
       "      <th>886</th>\n",
       "      <td>3545</td>\n",
       "      <td>3546</td>\n",
       "      <td>3547</td>\n",
       "      <td>3548</td>\n",
       "    </tr>\n",
       "    <tr>\n",
       "      <th>887</th>\n",
       "      <td>3549</td>\n",
       "      <td>3550</td>\n",
       "      <td>3551</td>\n",
       "      <td>3552</td>\n",
       "    </tr>\n",
       "  </tbody>\n",
       "</table>\n",
       "<p>888 rows × 4 columns</p>\n",
       "</div>"
      ],
      "text/plain": [
       "        A     B     C     D\n",
       "0       1     2     3     4\n",
       "1       5     6     7     8\n",
       "2       9    10    11    12\n",
       "3      13    14    15    16\n",
       "4      17    18    19    20\n",
       "..    ...   ...   ...   ...\n",
       "883  3533  3534  3535  3536\n",
       "884  3537  3538  3539  3540\n",
       "885  3541  3542  3543  3544\n",
       "886  3545  3546  3547  3548\n",
       "887  3549  3550  3551  3552\n",
       "\n",
       "[888 rows x 4 columns]"
      ]
     },
     "execution_count": 5,
     "metadata": {},
     "output_type": "execute_result"
    }
   ],
   "source": [
    "df = pd.DataFrame(a, columns=list('ABCD'))\n",
    "df"
   ]
  },
  {
   "cell_type": "code",
   "execution_count": 6,
   "metadata": {
    "colab": {
     "base_uri": "https://localhost:8080/",
     "height": 206
    },
    "id": "YNU_PJ8UZq9t",
    "outputId": "b504d4ec-26ec-46f5-9eed-e9d0dbdb02d8"
   },
   "outputs": [
    {
     "data": {
      "text/html": [
       "<div>\n",
       "<style scoped>\n",
       "    .dataframe tbody tr th:only-of-type {\n",
       "        vertical-align: middle;\n",
       "    }\n",
       "\n",
       "    .dataframe tbody tr th {\n",
       "        vertical-align: top;\n",
       "    }\n",
       "\n",
       "    .dataframe thead th {\n",
       "        text-align: right;\n",
       "    }\n",
       "</style>\n",
       "<table border=\"1\" class=\"dataframe\">\n",
       "  <thead>\n",
       "    <tr style=\"text-align: right;\">\n",
       "      <th></th>\n",
       "      <th>A</th>\n",
       "      <th>B</th>\n",
       "      <th>C</th>\n",
       "      <th>D</th>\n",
       "    </tr>\n",
       "  </thead>\n",
       "  <tbody>\n",
       "    <tr>\n",
       "      <th>0</th>\n",
       "      <td>1</td>\n",
       "      <td>2</td>\n",
       "      <td>3</td>\n",
       "      <td>4</td>\n",
       "    </tr>\n",
       "    <tr>\n",
       "      <th>1</th>\n",
       "      <td>5</td>\n",
       "      <td>6</td>\n",
       "      <td>7</td>\n",
       "      <td>8</td>\n",
       "    </tr>\n",
       "    <tr>\n",
       "      <th>2</th>\n",
       "      <td>9</td>\n",
       "      <td>10</td>\n",
       "      <td>11</td>\n",
       "      <td>12</td>\n",
       "    </tr>\n",
       "    <tr>\n",
       "      <th>3</th>\n",
       "      <td>13</td>\n",
       "      <td>14</td>\n",
       "      <td>15</td>\n",
       "      <td>16</td>\n",
       "    </tr>\n",
       "    <tr>\n",
       "      <th>4</th>\n",
       "      <td>17</td>\n",
       "      <td>18</td>\n",
       "      <td>19</td>\n",
       "      <td>20</td>\n",
       "    </tr>\n",
       "  </tbody>\n",
       "</table>\n",
       "</div>"
      ],
      "text/plain": [
       "    A   B   C   D\n",
       "0   1   2   3   4\n",
       "1   5   6   7   8\n",
       "2   9  10  11  12\n",
       "3  13  14  15  16\n",
       "4  17  18  19  20"
      ]
     },
     "execution_count": 6,
     "metadata": {},
     "output_type": "execute_result"
    }
   ],
   "source": [
    "df.head()"
   ]
  },
  {
   "cell_type": "code",
   "execution_count": 7,
   "metadata": {
    "colab": {
     "base_uri": "https://localhost:8080/",
     "height": 143
    },
    "id": "OKZJOfoiHDq8",
    "outputId": "de693c09-cecd-4337-f7e9-d7270a7d6ad1"
   },
   "outputs": [
    {
     "data": {
      "text/html": [
       "<div>\n",
       "<style scoped>\n",
       "    .dataframe tbody tr th:only-of-type {\n",
       "        vertical-align: middle;\n",
       "    }\n",
       "\n",
       "    .dataframe tbody tr th {\n",
       "        vertical-align: top;\n",
       "    }\n",
       "\n",
       "    .dataframe thead th {\n",
       "        text-align: right;\n",
       "    }\n",
       "</style>\n",
       "<table border=\"1\" class=\"dataframe\">\n",
       "  <thead>\n",
       "    <tr style=\"text-align: right;\">\n",
       "      <th></th>\n",
       "      <th>A</th>\n",
       "      <th>B</th>\n",
       "      <th>C</th>\n",
       "      <th>D</th>\n",
       "    </tr>\n",
       "  </thead>\n",
       "  <tbody>\n",
       "    <tr>\n",
       "      <th>0</th>\n",
       "      <td>1</td>\n",
       "      <td>2</td>\n",
       "      <td>3</td>\n",
       "      <td>4</td>\n",
       "    </tr>\n",
       "    <tr>\n",
       "      <th>1</th>\n",
       "      <td>5</td>\n",
       "      <td>6</td>\n",
       "      <td>7</td>\n",
       "      <td>8</td>\n",
       "    </tr>\n",
       "    <tr>\n",
       "      <th>2</th>\n",
       "      <td>9</td>\n",
       "      <td>10</td>\n",
       "      <td>11</td>\n",
       "      <td>12</td>\n",
       "    </tr>\n",
       "  </tbody>\n",
       "</table>\n",
       "</div>"
      ],
      "text/plain": [
       "   A   B   C   D\n",
       "0  1   2   3   4\n",
       "1  5   6   7   8\n",
       "2  9  10  11  12"
      ]
     },
     "execution_count": 7,
     "metadata": {},
     "output_type": "execute_result"
    }
   ],
   "source": [
    "df.head(3)"
   ]
  },
  {
   "cell_type": "code",
   "execution_count": 8,
   "metadata": {
    "colab": {
     "base_uri": "https://localhost:8080/",
     "height": 206
    },
    "id": "IjAxWRTUHFYE",
    "outputId": "ef753b80-cb25-4f5e-a09f-8fcbd7da6907"
   },
   "outputs": [
    {
     "data": {
      "text/html": [
       "<div>\n",
       "<style scoped>\n",
       "    .dataframe tbody tr th:only-of-type {\n",
       "        vertical-align: middle;\n",
       "    }\n",
       "\n",
       "    .dataframe tbody tr th {\n",
       "        vertical-align: top;\n",
       "    }\n",
       "\n",
       "    .dataframe thead th {\n",
       "        text-align: right;\n",
       "    }\n",
       "</style>\n",
       "<table border=\"1\" class=\"dataframe\">\n",
       "  <thead>\n",
       "    <tr style=\"text-align: right;\">\n",
       "      <th></th>\n",
       "      <th>A</th>\n",
       "      <th>B</th>\n",
       "      <th>C</th>\n",
       "      <th>D</th>\n",
       "    </tr>\n",
       "  </thead>\n",
       "  <tbody>\n",
       "    <tr>\n",
       "      <th>883</th>\n",
       "      <td>3533</td>\n",
       "      <td>3534</td>\n",
       "      <td>3535</td>\n",
       "      <td>3536</td>\n",
       "    </tr>\n",
       "    <tr>\n",
       "      <th>884</th>\n",
       "      <td>3537</td>\n",
       "      <td>3538</td>\n",
       "      <td>3539</td>\n",
       "      <td>3540</td>\n",
       "    </tr>\n",
       "    <tr>\n",
       "      <th>885</th>\n",
       "      <td>3541</td>\n",
       "      <td>3542</td>\n",
       "      <td>3543</td>\n",
       "      <td>3544</td>\n",
       "    </tr>\n",
       "    <tr>\n",
       "      <th>886</th>\n",
       "      <td>3545</td>\n",
       "      <td>3546</td>\n",
       "      <td>3547</td>\n",
       "      <td>3548</td>\n",
       "    </tr>\n",
       "    <tr>\n",
       "      <th>887</th>\n",
       "      <td>3549</td>\n",
       "      <td>3550</td>\n",
       "      <td>3551</td>\n",
       "      <td>3552</td>\n",
       "    </tr>\n",
       "  </tbody>\n",
       "</table>\n",
       "</div>"
      ],
      "text/plain": [
       "        A     B     C     D\n",
       "883  3533  3534  3535  3536\n",
       "884  3537  3538  3539  3540\n",
       "885  3541  3542  3543  3544\n",
       "886  3545  3546  3547  3548\n",
       "887  3549  3550  3551  3552"
      ]
     },
     "execution_count": 8,
     "metadata": {},
     "output_type": "execute_result"
    }
   ],
   "source": [
    "df.tail()"
   ]
  },
  {
   "cell_type": "code",
   "execution_count": 9,
   "metadata": {
    "colab": {
     "base_uri": "https://localhost:8080/",
     "height": 143
    },
    "id": "dtGJUcrTHL74",
    "outputId": "0bb83fa4-2b1b-45a7-be3b-570ede974092"
   },
   "outputs": [
    {
     "data": {
      "text/html": [
       "<div>\n",
       "<style scoped>\n",
       "    .dataframe tbody tr th:only-of-type {\n",
       "        vertical-align: middle;\n",
       "    }\n",
       "\n",
       "    .dataframe tbody tr th {\n",
       "        vertical-align: top;\n",
       "    }\n",
       "\n",
       "    .dataframe thead th {\n",
       "        text-align: right;\n",
       "    }\n",
       "</style>\n",
       "<table border=\"1\" class=\"dataframe\">\n",
       "  <thead>\n",
       "    <tr style=\"text-align: right;\">\n",
       "      <th></th>\n",
       "      <th>A</th>\n",
       "      <th>B</th>\n",
       "      <th>C</th>\n",
       "      <th>D</th>\n",
       "    </tr>\n",
       "  </thead>\n",
       "  <tbody>\n",
       "    <tr>\n",
       "      <th>885</th>\n",
       "      <td>3541</td>\n",
       "      <td>3542</td>\n",
       "      <td>3543</td>\n",
       "      <td>3544</td>\n",
       "    </tr>\n",
       "    <tr>\n",
       "      <th>886</th>\n",
       "      <td>3545</td>\n",
       "      <td>3546</td>\n",
       "      <td>3547</td>\n",
       "      <td>3548</td>\n",
       "    </tr>\n",
       "    <tr>\n",
       "      <th>887</th>\n",
       "      <td>3549</td>\n",
       "      <td>3550</td>\n",
       "      <td>3551</td>\n",
       "      <td>3552</td>\n",
       "    </tr>\n",
       "  </tbody>\n",
       "</table>\n",
       "</div>"
      ],
      "text/plain": [
       "        A     B     C     D\n",
       "885  3541  3542  3543  3544\n",
       "886  3545  3546  3547  3548\n",
       "887  3549  3550  3551  3552"
      ]
     },
     "execution_count": 9,
     "metadata": {},
     "output_type": "execute_result"
    }
   ],
   "source": [
    "df.tail(3)"
   ]
  },
  {
   "cell_type": "code",
   "execution_count": 10,
   "metadata": {
    "colab": {
     "base_uri": "https://localhost:8080/"
    },
    "id": "x2lICdZ0HNpb",
    "outputId": "a67ad5fb-961e-4afd-99cf-d96fa01e5054"
   },
   "outputs": [
    {
     "data": {
      "text/plain": [
       "RangeIndex(start=0, stop=888, step=1)"
      ]
     },
     "execution_count": 10,
     "metadata": {},
     "output_type": "execute_result"
    }
   ],
   "source": [
    "df.index"
   ]
  },
  {
   "cell_type": "code",
   "execution_count": 11,
   "metadata": {
    "colab": {
     "base_uri": "https://localhost:8080/"
    },
    "id": "qDZLMPuvHU4F",
    "outputId": "a17f76d1-fd30-4d66-c0b5-b652184b1e52"
   },
   "outputs": [
    {
     "data": {
      "text/plain": [
       "Index(['A', 'B', 'C', 'D'], dtype='object')"
      ]
     },
     "execution_count": 11,
     "metadata": {},
     "output_type": "execute_result"
    }
   ],
   "source": [
    "df.columns"
   ]
  },
  {
   "cell_type": "code",
   "execution_count": 12,
   "metadata": {
    "colab": {
     "base_uri": "https://localhost:8080/",
     "height": 300
    },
    "id": "pS8yNm5gHWf_",
    "outputId": "1f017e65-5e89-4414-ad5d-cef913b43479"
   },
   "outputs": [
    {
     "data": {
      "text/html": [
       "<div>\n",
       "<style scoped>\n",
       "    .dataframe tbody tr th:only-of-type {\n",
       "        vertical-align: middle;\n",
       "    }\n",
       "\n",
       "    .dataframe tbody tr th {\n",
       "        vertical-align: top;\n",
       "    }\n",
       "\n",
       "    .dataframe thead th {\n",
       "        text-align: right;\n",
       "    }\n",
       "</style>\n",
       "<table border=\"1\" class=\"dataframe\">\n",
       "  <thead>\n",
       "    <tr style=\"text-align: right;\">\n",
       "      <th></th>\n",
       "      <th>A</th>\n",
       "      <th>B</th>\n",
       "      <th>C</th>\n",
       "      <th>D</th>\n",
       "    </tr>\n",
       "  </thead>\n",
       "  <tbody>\n",
       "    <tr>\n",
       "      <th>count</th>\n",
       "      <td>888.000000</td>\n",
       "      <td>888.000000</td>\n",
       "      <td>888.000000</td>\n",
       "      <td>888.000000</td>\n",
       "    </tr>\n",
       "    <tr>\n",
       "      <th>mean</th>\n",
       "      <td>1775.000000</td>\n",
       "      <td>1776.000000</td>\n",
       "      <td>1777.000000</td>\n",
       "      <td>1778.000000</td>\n",
       "    </tr>\n",
       "    <tr>\n",
       "      <th>std</th>\n",
       "      <td>1025.951266</td>\n",
       "      <td>1025.951266</td>\n",
       "      <td>1025.951266</td>\n",
       "      <td>1025.951266</td>\n",
       "    </tr>\n",
       "    <tr>\n",
       "      <th>min</th>\n",
       "      <td>1.000000</td>\n",
       "      <td>2.000000</td>\n",
       "      <td>3.000000</td>\n",
       "      <td>4.000000</td>\n",
       "    </tr>\n",
       "    <tr>\n",
       "      <th>25%</th>\n",
       "      <td>888.000000</td>\n",
       "      <td>889.000000</td>\n",
       "      <td>890.000000</td>\n",
       "      <td>891.000000</td>\n",
       "    </tr>\n",
       "    <tr>\n",
       "      <th>50%</th>\n",
       "      <td>1775.000000</td>\n",
       "      <td>1776.000000</td>\n",
       "      <td>1777.000000</td>\n",
       "      <td>1778.000000</td>\n",
       "    </tr>\n",
       "    <tr>\n",
       "      <th>75%</th>\n",
       "      <td>2662.000000</td>\n",
       "      <td>2663.000000</td>\n",
       "      <td>2664.000000</td>\n",
       "      <td>2665.000000</td>\n",
       "    </tr>\n",
       "    <tr>\n",
       "      <th>max</th>\n",
       "      <td>3549.000000</td>\n",
       "      <td>3550.000000</td>\n",
       "      <td>3551.000000</td>\n",
       "      <td>3552.000000</td>\n",
       "    </tr>\n",
       "  </tbody>\n",
       "</table>\n",
       "</div>"
      ],
      "text/plain": [
       "                 A            B            C            D\n",
       "count   888.000000   888.000000   888.000000   888.000000\n",
       "mean   1775.000000  1776.000000  1777.000000  1778.000000\n",
       "std    1025.951266  1025.951266  1025.951266  1025.951266\n",
       "min       1.000000     2.000000     3.000000     4.000000\n",
       "25%     888.000000   889.000000   890.000000   891.000000\n",
       "50%    1775.000000  1776.000000  1777.000000  1778.000000\n",
       "75%    2662.000000  2663.000000  2664.000000  2665.000000\n",
       "max    3549.000000  3550.000000  3551.000000  3552.000000"
      ]
     },
     "execution_count": 12,
     "metadata": {},
     "output_type": "execute_result"
    }
   ],
   "source": [
    "df.describe()"
   ]
  },
  {
   "cell_type": "markdown",
   "metadata": {
    "id": "ghjNvtQPHkmo"
   },
   "source": [
    "# Сортировка"
   ]
  },
  {
   "cell_type": "code",
   "execution_count": 13,
   "metadata": {
    "colab": {
     "base_uri": "https://localhost:8080/",
     "height": 423
    },
    "id": "cQvbSc72Ha6q",
    "outputId": "28d86f8e-bc89-4b3a-c0d0-2b296be4063f"
   },
   "outputs": [
    {
     "data": {
      "text/html": [
       "<div>\n",
       "<style scoped>\n",
       "    .dataframe tbody tr th:only-of-type {\n",
       "        vertical-align: middle;\n",
       "    }\n",
       "\n",
       "    .dataframe tbody tr th {\n",
       "        vertical-align: top;\n",
       "    }\n",
       "\n",
       "    .dataframe thead th {\n",
       "        text-align: right;\n",
       "    }\n",
       "</style>\n",
       "<table border=\"1\" class=\"dataframe\">\n",
       "  <thead>\n",
       "    <tr style=\"text-align: right;\">\n",
       "      <th></th>\n",
       "      <th>A</th>\n",
       "      <th>B</th>\n",
       "      <th>C</th>\n",
       "      <th>D</th>\n",
       "    </tr>\n",
       "  </thead>\n",
       "  <tbody>\n",
       "    <tr>\n",
       "      <th>0</th>\n",
       "      <td>0.416103</td>\n",
       "      <td>0.230197</td>\n",
       "      <td>0.052744</td>\n",
       "      <td>0.641824</td>\n",
       "    </tr>\n",
       "    <tr>\n",
       "      <th>1</th>\n",
       "      <td>0.135566</td>\n",
       "      <td>0.512923</td>\n",
       "      <td>0.845464</td>\n",
       "      <td>0.373253</td>\n",
       "    </tr>\n",
       "    <tr>\n",
       "      <th>2</th>\n",
       "      <td>0.840328</td>\n",
       "      <td>0.207079</td>\n",
       "      <td>0.577448</td>\n",
       "      <td>0.284003</td>\n",
       "    </tr>\n",
       "    <tr>\n",
       "      <th>3</th>\n",
       "      <td>0.503420</td>\n",
       "      <td>0.291522</td>\n",
       "      <td>0.236281</td>\n",
       "      <td>0.397940</td>\n",
       "    </tr>\n",
       "    <tr>\n",
       "      <th>4</th>\n",
       "      <td>0.585558</td>\n",
       "      <td>0.970971</td>\n",
       "      <td>0.019752</td>\n",
       "      <td>0.559707</td>\n",
       "    </tr>\n",
       "    <tr>\n",
       "      <th>...</th>\n",
       "      <td>...</td>\n",
       "      <td>...</td>\n",
       "      <td>...</td>\n",
       "      <td>...</td>\n",
       "    </tr>\n",
       "    <tr>\n",
       "      <th>883</th>\n",
       "      <td>0.520062</td>\n",
       "      <td>0.975955</td>\n",
       "      <td>0.024820</td>\n",
       "      <td>0.401821</td>\n",
       "    </tr>\n",
       "    <tr>\n",
       "      <th>884</th>\n",
       "      <td>0.946750</td>\n",
       "      <td>0.044612</td>\n",
       "      <td>0.378193</td>\n",
       "      <td>0.360500</td>\n",
       "    </tr>\n",
       "    <tr>\n",
       "      <th>885</th>\n",
       "      <td>0.823247</td>\n",
       "      <td>0.651466</td>\n",
       "      <td>0.351732</td>\n",
       "      <td>0.688832</td>\n",
       "    </tr>\n",
       "    <tr>\n",
       "      <th>886</th>\n",
       "      <td>0.648531</td>\n",
       "      <td>0.899025</td>\n",
       "      <td>0.933409</td>\n",
       "      <td>0.622322</td>\n",
       "    </tr>\n",
       "    <tr>\n",
       "      <th>887</th>\n",
       "      <td>0.004623</td>\n",
       "      <td>0.103208</td>\n",
       "      <td>0.381145</td>\n",
       "      <td>0.717003</td>\n",
       "    </tr>\n",
       "  </tbody>\n",
       "</table>\n",
       "<p>888 rows × 4 columns</p>\n",
       "</div>"
      ],
      "text/plain": [
       "            A         B         C         D\n",
       "0    0.416103  0.230197  0.052744  0.641824\n",
       "1    0.135566  0.512923  0.845464  0.373253\n",
       "2    0.840328  0.207079  0.577448  0.284003\n",
       "3    0.503420  0.291522  0.236281  0.397940\n",
       "4    0.585558  0.970971  0.019752  0.559707\n",
       "..        ...       ...       ...       ...\n",
       "883  0.520062  0.975955  0.024820  0.401821\n",
       "884  0.946750  0.044612  0.378193  0.360500\n",
       "885  0.823247  0.651466  0.351732  0.688832\n",
       "886  0.648531  0.899025  0.933409  0.622322\n",
       "887  0.004623  0.103208  0.381145  0.717003\n",
       "\n",
       "[888 rows x 4 columns]"
      ]
     },
     "execution_count": 13,
     "metadata": {},
     "output_type": "execute_result"
    }
   ],
   "source": [
    "a = np.random.rand(888, 4)\n",
    "df = pd.DataFrame(a, columns=list('ABCD'))\n",
    "df"
   ]
  },
  {
   "cell_type": "code",
   "execution_count": 14,
   "metadata": {
    "colab": {
     "base_uri": "https://localhost:8080/",
     "height": 423
    },
    "id": "9aG3EV3BHy0m",
    "outputId": "3655f621-fad8-443b-cf6b-df9ce1563c93"
   },
   "outputs": [
    {
     "data": {
      "text/html": [
       "<div>\n",
       "<style scoped>\n",
       "    .dataframe tbody tr th:only-of-type {\n",
       "        vertical-align: middle;\n",
       "    }\n",
       "\n",
       "    .dataframe tbody tr th {\n",
       "        vertical-align: top;\n",
       "    }\n",
       "\n",
       "    .dataframe thead th {\n",
       "        text-align: right;\n",
       "    }\n",
       "</style>\n",
       "<table border=\"1\" class=\"dataframe\">\n",
       "  <thead>\n",
       "    <tr style=\"text-align: right;\">\n",
       "      <th></th>\n",
       "      <th>A</th>\n",
       "      <th>B</th>\n",
       "      <th>C</th>\n",
       "      <th>D</th>\n",
       "    </tr>\n",
       "  </thead>\n",
       "  <tbody>\n",
       "    <tr>\n",
       "      <th>365</th>\n",
       "      <td>0.021664</td>\n",
       "      <td>0.000391</td>\n",
       "      <td>0.006258</td>\n",
       "      <td>0.439965</td>\n",
       "    </tr>\n",
       "    <tr>\n",
       "      <th>836</th>\n",
       "      <td>0.809761</td>\n",
       "      <td>0.001065</td>\n",
       "      <td>0.191511</td>\n",
       "      <td>0.670731</td>\n",
       "    </tr>\n",
       "    <tr>\n",
       "      <th>652</th>\n",
       "      <td>0.654789</td>\n",
       "      <td>0.001321</td>\n",
       "      <td>0.031256</td>\n",
       "      <td>0.751667</td>\n",
       "    </tr>\n",
       "    <tr>\n",
       "      <th>403</th>\n",
       "      <td>0.033164</td>\n",
       "      <td>0.002397</td>\n",
       "      <td>0.786453</td>\n",
       "      <td>0.622564</td>\n",
       "    </tr>\n",
       "    <tr>\n",
       "      <th>209</th>\n",
       "      <td>0.599948</td>\n",
       "      <td>0.002516</td>\n",
       "      <td>0.493455</td>\n",
       "      <td>0.480738</td>\n",
       "    </tr>\n",
       "    <tr>\n",
       "      <th>...</th>\n",
       "      <td>...</td>\n",
       "      <td>...</td>\n",
       "      <td>...</td>\n",
       "      <td>...</td>\n",
       "    </tr>\n",
       "    <tr>\n",
       "      <th>742</th>\n",
       "      <td>0.246957</td>\n",
       "      <td>0.995030</td>\n",
       "      <td>0.257412</td>\n",
       "      <td>0.722528</td>\n",
       "    </tr>\n",
       "    <tr>\n",
       "      <th>311</th>\n",
       "      <td>0.171780</td>\n",
       "      <td>0.996114</td>\n",
       "      <td>0.568199</td>\n",
       "      <td>0.935283</td>\n",
       "    </tr>\n",
       "    <tr>\n",
       "      <th>41</th>\n",
       "      <td>0.127482</td>\n",
       "      <td>0.996728</td>\n",
       "      <td>0.267848</td>\n",
       "      <td>0.279753</td>\n",
       "    </tr>\n",
       "    <tr>\n",
       "      <th>116</th>\n",
       "      <td>0.638816</td>\n",
       "      <td>0.997758</td>\n",
       "      <td>0.144290</td>\n",
       "      <td>0.582588</td>\n",
       "    </tr>\n",
       "    <tr>\n",
       "      <th>800</th>\n",
       "      <td>0.660699</td>\n",
       "      <td>0.999993</td>\n",
       "      <td>0.597645</td>\n",
       "      <td>0.102838</td>\n",
       "    </tr>\n",
       "  </tbody>\n",
       "</table>\n",
       "<p>888 rows × 4 columns</p>\n",
       "</div>"
      ],
      "text/plain": [
       "            A         B         C         D\n",
       "365  0.021664  0.000391  0.006258  0.439965\n",
       "836  0.809761  0.001065  0.191511  0.670731\n",
       "652  0.654789  0.001321  0.031256  0.751667\n",
       "403  0.033164  0.002397  0.786453  0.622564\n",
       "209  0.599948  0.002516  0.493455  0.480738\n",
       "..        ...       ...       ...       ...\n",
       "742  0.246957  0.995030  0.257412  0.722528\n",
       "311  0.171780  0.996114  0.568199  0.935283\n",
       "41   0.127482  0.996728  0.267848  0.279753\n",
       "116  0.638816  0.997758  0.144290  0.582588\n",
       "800  0.660699  0.999993  0.597645  0.102838\n",
       "\n",
       "[888 rows x 4 columns]"
      ]
     },
     "execution_count": 14,
     "metadata": {},
     "output_type": "execute_result"
    }
   ],
   "source": [
    "df.sort_values('B')"
   ]
  },
  {
   "cell_type": "code",
   "execution_count": 15,
   "metadata": {
    "colab": {
     "base_uri": "https://localhost:8080/",
     "height": 423
    },
    "id": "f-5XY7bYIHpN",
    "outputId": "345dca7a-d26a-44c2-9214-82cbc9ca286b"
   },
   "outputs": [
    {
     "data": {
      "text/html": [
       "<div>\n",
       "<style scoped>\n",
       "    .dataframe tbody tr th:only-of-type {\n",
       "        vertical-align: middle;\n",
       "    }\n",
       "\n",
       "    .dataframe tbody tr th {\n",
       "        vertical-align: top;\n",
       "    }\n",
       "\n",
       "    .dataframe thead th {\n",
       "        text-align: right;\n",
       "    }\n",
       "</style>\n",
       "<table border=\"1\" class=\"dataframe\">\n",
       "  <thead>\n",
       "    <tr style=\"text-align: right;\">\n",
       "      <th></th>\n",
       "      <th>A</th>\n",
       "      <th>B</th>\n",
       "      <th>C</th>\n",
       "      <th>D</th>\n",
       "    </tr>\n",
       "  </thead>\n",
       "  <tbody>\n",
       "    <tr>\n",
       "      <th>365</th>\n",
       "      <td>0.021664</td>\n",
       "      <td>0.000391</td>\n",
       "      <td>0.006258</td>\n",
       "      <td>0.439965</td>\n",
       "    </tr>\n",
       "    <tr>\n",
       "      <th>836</th>\n",
       "      <td>0.809761</td>\n",
       "      <td>0.001065</td>\n",
       "      <td>0.191511</td>\n",
       "      <td>0.670731</td>\n",
       "    </tr>\n",
       "    <tr>\n",
       "      <th>652</th>\n",
       "      <td>0.654789</td>\n",
       "      <td>0.001321</td>\n",
       "      <td>0.031256</td>\n",
       "      <td>0.751667</td>\n",
       "    </tr>\n",
       "    <tr>\n",
       "      <th>403</th>\n",
       "      <td>0.033164</td>\n",
       "      <td>0.002397</td>\n",
       "      <td>0.786453</td>\n",
       "      <td>0.622564</td>\n",
       "    </tr>\n",
       "    <tr>\n",
       "      <th>209</th>\n",
       "      <td>0.599948</td>\n",
       "      <td>0.002516</td>\n",
       "      <td>0.493455</td>\n",
       "      <td>0.480738</td>\n",
       "    </tr>\n",
       "    <tr>\n",
       "      <th>...</th>\n",
       "      <td>...</td>\n",
       "      <td>...</td>\n",
       "      <td>...</td>\n",
       "      <td>...</td>\n",
       "    </tr>\n",
       "    <tr>\n",
       "      <th>742</th>\n",
       "      <td>0.246957</td>\n",
       "      <td>0.995030</td>\n",
       "      <td>0.257412</td>\n",
       "      <td>0.722528</td>\n",
       "    </tr>\n",
       "    <tr>\n",
       "      <th>311</th>\n",
       "      <td>0.171780</td>\n",
       "      <td>0.996114</td>\n",
       "      <td>0.568199</td>\n",
       "      <td>0.935283</td>\n",
       "    </tr>\n",
       "    <tr>\n",
       "      <th>41</th>\n",
       "      <td>0.127482</td>\n",
       "      <td>0.996728</td>\n",
       "      <td>0.267848</td>\n",
       "      <td>0.279753</td>\n",
       "    </tr>\n",
       "    <tr>\n",
       "      <th>116</th>\n",
       "      <td>0.638816</td>\n",
       "      <td>0.997758</td>\n",
       "      <td>0.144290</td>\n",
       "      <td>0.582588</td>\n",
       "    </tr>\n",
       "    <tr>\n",
       "      <th>800</th>\n",
       "      <td>0.660699</td>\n",
       "      <td>0.999993</td>\n",
       "      <td>0.597645</td>\n",
       "      <td>0.102838</td>\n",
       "    </tr>\n",
       "  </tbody>\n",
       "</table>\n",
       "<p>888 rows × 4 columns</p>\n",
       "</div>"
      ],
      "text/plain": [
       "            A         B         C         D\n",
       "365  0.021664  0.000391  0.006258  0.439965\n",
       "836  0.809761  0.001065  0.191511  0.670731\n",
       "652  0.654789  0.001321  0.031256  0.751667\n",
       "403  0.033164  0.002397  0.786453  0.622564\n",
       "209  0.599948  0.002516  0.493455  0.480738\n",
       "..        ...       ...       ...       ...\n",
       "742  0.246957  0.995030  0.257412  0.722528\n",
       "311  0.171780  0.996114  0.568199  0.935283\n",
       "41   0.127482  0.996728  0.267848  0.279753\n",
       "116  0.638816  0.997758  0.144290  0.582588\n",
       "800  0.660699  0.999993  0.597645  0.102838\n",
       "\n",
       "[888 rows x 4 columns]"
      ]
     },
     "execution_count": 15,
     "metadata": {},
     "output_type": "execute_result"
    }
   ],
   "source": [
    "df.sort_values(by = ['B', 'C'])"
   ]
  },
  {
   "cell_type": "code",
   "execution_count": 16,
   "metadata": {
    "colab": {
     "base_uri": "https://localhost:8080/",
     "height": 423
    },
    "id": "MjoQSpzWIWFY",
    "outputId": "beecaa5c-cdb8-4f81-9e7b-a3349603fb6b"
   },
   "outputs": [
    {
     "data": {
      "text/html": [
       "<div>\n",
       "<style scoped>\n",
       "    .dataframe tbody tr th:only-of-type {\n",
       "        vertical-align: middle;\n",
       "    }\n",
       "\n",
       "    .dataframe tbody tr th {\n",
       "        vertical-align: top;\n",
       "    }\n",
       "\n",
       "    .dataframe thead th {\n",
       "        text-align: right;\n",
       "    }\n",
       "</style>\n",
       "<table border=\"1\" class=\"dataframe\">\n",
       "  <thead>\n",
       "    <tr style=\"text-align: right;\">\n",
       "      <th></th>\n",
       "      <th>A</th>\n",
       "      <th>B</th>\n",
       "      <th>C</th>\n",
       "      <th>D</th>\n",
       "    </tr>\n",
       "  </thead>\n",
       "  <tbody>\n",
       "    <tr>\n",
       "      <th>800</th>\n",
       "      <td>0.660699</td>\n",
       "      <td>0.999993</td>\n",
       "      <td>0.597645</td>\n",
       "      <td>0.102838</td>\n",
       "    </tr>\n",
       "    <tr>\n",
       "      <th>116</th>\n",
       "      <td>0.638816</td>\n",
       "      <td>0.997758</td>\n",
       "      <td>0.144290</td>\n",
       "      <td>0.582588</td>\n",
       "    </tr>\n",
       "    <tr>\n",
       "      <th>41</th>\n",
       "      <td>0.127482</td>\n",
       "      <td>0.996728</td>\n",
       "      <td>0.267848</td>\n",
       "      <td>0.279753</td>\n",
       "    </tr>\n",
       "    <tr>\n",
       "      <th>311</th>\n",
       "      <td>0.171780</td>\n",
       "      <td>0.996114</td>\n",
       "      <td>0.568199</td>\n",
       "      <td>0.935283</td>\n",
       "    </tr>\n",
       "    <tr>\n",
       "      <th>742</th>\n",
       "      <td>0.246957</td>\n",
       "      <td>0.995030</td>\n",
       "      <td>0.257412</td>\n",
       "      <td>0.722528</td>\n",
       "    </tr>\n",
       "    <tr>\n",
       "      <th>...</th>\n",
       "      <td>...</td>\n",
       "      <td>...</td>\n",
       "      <td>...</td>\n",
       "      <td>...</td>\n",
       "    </tr>\n",
       "    <tr>\n",
       "      <th>209</th>\n",
       "      <td>0.599948</td>\n",
       "      <td>0.002516</td>\n",
       "      <td>0.493455</td>\n",
       "      <td>0.480738</td>\n",
       "    </tr>\n",
       "    <tr>\n",
       "      <th>403</th>\n",
       "      <td>0.033164</td>\n",
       "      <td>0.002397</td>\n",
       "      <td>0.786453</td>\n",
       "      <td>0.622564</td>\n",
       "    </tr>\n",
       "    <tr>\n",
       "      <th>652</th>\n",
       "      <td>0.654789</td>\n",
       "      <td>0.001321</td>\n",
       "      <td>0.031256</td>\n",
       "      <td>0.751667</td>\n",
       "    </tr>\n",
       "    <tr>\n",
       "      <th>836</th>\n",
       "      <td>0.809761</td>\n",
       "      <td>0.001065</td>\n",
       "      <td>0.191511</td>\n",
       "      <td>0.670731</td>\n",
       "    </tr>\n",
       "    <tr>\n",
       "      <th>365</th>\n",
       "      <td>0.021664</td>\n",
       "      <td>0.000391</td>\n",
       "      <td>0.006258</td>\n",
       "      <td>0.439965</td>\n",
       "    </tr>\n",
       "  </tbody>\n",
       "</table>\n",
       "<p>888 rows × 4 columns</p>\n",
       "</div>"
      ],
      "text/plain": [
       "            A         B         C         D\n",
       "800  0.660699  0.999993  0.597645  0.102838\n",
       "116  0.638816  0.997758  0.144290  0.582588\n",
       "41   0.127482  0.996728  0.267848  0.279753\n",
       "311  0.171780  0.996114  0.568199  0.935283\n",
       "742  0.246957  0.995030  0.257412  0.722528\n",
       "..        ...       ...       ...       ...\n",
       "209  0.599948  0.002516  0.493455  0.480738\n",
       "403  0.033164  0.002397  0.786453  0.622564\n",
       "652  0.654789  0.001321  0.031256  0.751667\n",
       "836  0.809761  0.001065  0.191511  0.670731\n",
       "365  0.021664  0.000391  0.006258  0.439965\n",
       "\n",
       "[888 rows x 4 columns]"
      ]
     },
     "execution_count": 16,
     "metadata": {},
     "output_type": "execute_result"
    }
   ],
   "source": [
    "df.sort_values(by = 'B', ascending = False)"
   ]
  },
  {
   "cell_type": "markdown",
   "metadata": {
    "id": "3aOYj_hlIyA1"
   },
   "source": [
    "# Получение значений"
   ]
  },
  {
   "cell_type": "code",
   "execution_count": 17,
   "metadata": {
    "colab": {
     "base_uri": "https://localhost:8080/",
     "height": 206
    },
    "id": "7nhPRPOeIpAQ",
    "outputId": "74455919-8c23-4721-e825-3ce761e3bad8"
   },
   "outputs": [
    {
     "data": {
      "text/html": [
       "<div>\n",
       "<style scoped>\n",
       "    .dataframe tbody tr th:only-of-type {\n",
       "        vertical-align: middle;\n",
       "    }\n",
       "\n",
       "    .dataframe tbody tr th {\n",
       "        vertical-align: top;\n",
       "    }\n",
       "\n",
       "    .dataframe thead th {\n",
       "        text-align: right;\n",
       "    }\n",
       "</style>\n",
       "<table border=\"1\" class=\"dataframe\">\n",
       "  <thead>\n",
       "    <tr style=\"text-align: right;\">\n",
       "      <th></th>\n",
       "      <th>A</th>\n",
       "      <th>B</th>\n",
       "      <th>C</th>\n",
       "      <th>D</th>\n",
       "    </tr>\n",
       "  </thead>\n",
       "  <tbody>\n",
       "    <tr>\n",
       "      <th>0</th>\n",
       "      <td>0</td>\n",
       "      <td>1</td>\n",
       "      <td>2</td>\n",
       "      <td>3</td>\n",
       "    </tr>\n",
       "    <tr>\n",
       "      <th>1</th>\n",
       "      <td>4</td>\n",
       "      <td>5</td>\n",
       "      <td>6</td>\n",
       "      <td>7</td>\n",
       "    </tr>\n",
       "    <tr>\n",
       "      <th>2</th>\n",
       "      <td>8</td>\n",
       "      <td>9</td>\n",
       "      <td>10</td>\n",
       "      <td>11</td>\n",
       "    </tr>\n",
       "    <tr>\n",
       "      <th>3</th>\n",
       "      <td>12</td>\n",
       "      <td>13</td>\n",
       "      <td>14</td>\n",
       "      <td>15</td>\n",
       "    </tr>\n",
       "    <tr>\n",
       "      <th>4</th>\n",
       "      <td>16</td>\n",
       "      <td>17</td>\n",
       "      <td>18</td>\n",
       "      <td>19</td>\n",
       "    </tr>\n",
       "  </tbody>\n",
       "</table>\n",
       "</div>"
      ],
      "text/plain": [
       "    A   B   C   D\n",
       "0   0   1   2   3\n",
       "1   4   5   6   7\n",
       "2   8   9  10  11\n",
       "3  12  13  14  15\n",
       "4  16  17  18  19"
      ]
     },
     "execution_count": 17,
     "metadata": {},
     "output_type": "execute_result"
    }
   ],
   "source": [
    "a = np.arange(4 * 888).reshape(888, 4)\n",
    "df = pd.DataFrame(a, columns = list('ABCD'))\n",
    "df.head()"
   ]
  },
  {
   "cell_type": "code",
   "execution_count": 18,
   "metadata": {
    "colab": {
     "base_uri": "https://localhost:8080/"
    },
    "id": "Km6RQzYqJme6",
    "outputId": "87616f5f-b911-49e5-d39a-69114a165250"
   },
   "outputs": [
    {
     "data": {
      "text/plain": [
       "array([[   0,    1,    2,    3],\n",
       "       [   4,    5,    6,    7],\n",
       "       [   8,    9,   10,   11],\n",
       "       ...,\n",
       "       [3540, 3541, 3542, 3543],\n",
       "       [3544, 3545, 3546, 3547],\n",
       "       [3548, 3549, 3550, 3551]])"
      ]
     },
     "execution_count": 18,
     "metadata": {},
     "output_type": "execute_result"
    }
   ],
   "source": [
    "# получить значения\n",
    "df.values"
   ]
  },
  {
   "cell_type": "code",
   "execution_count": 19,
   "metadata": {
    "colab": {
     "base_uri": "https://localhost:8080/"
    },
    "id": "ab0XRJQNJyku",
    "outputId": "31b91eba-7cbf-4f84-a52d-b7bb4fa7e630"
   },
   "outputs": [
    {
     "data": {
      "text/plain": [
       "array([[   0,    1,    2,    3],\n",
       "       [   4,    5,    6,    7],\n",
       "       [   8,    9,   10,   11],\n",
       "       ...,\n",
       "       [3540, 3541, 3542, 3543],\n",
       "       [3544, 3545, 3546, 3547],\n",
       "       [3548, 3549, 3550, 3551]])"
      ]
     },
     "execution_count": 19,
     "metadata": {},
     "output_type": "execute_result"
    }
   ],
   "source": [
    "# получить значения через to_numpy\n",
    "df.to_numpy()"
   ]
  },
  {
   "cell_type": "code",
   "execution_count": 20,
   "metadata": {
    "colab": {
     "base_uri": "https://localhost:8080/",
     "height": 458
    },
    "id": "Giy54ugTJ6xO",
    "outputId": "46be2298-0c1a-41ad-b3dc-be6678f8816a"
   },
   "outputs": [
    {
     "data": {
      "text/plain": [
       "0         0\n",
       "1         4\n",
       "2         8\n",
       "3        12\n",
       "4        16\n",
       "       ... \n",
       "883    3532\n",
       "884    3536\n",
       "885    3540\n",
       "886    3544\n",
       "887    3548\n",
       "Name: A, Length: 888, dtype: int32"
      ]
     },
     "execution_count": 20,
     "metadata": {},
     "output_type": "execute_result"
    }
   ],
   "source": [
    "# вызвать колонку так предпочтительней\n",
    "df['A']"
   ]
  },
  {
   "cell_type": "code",
   "execution_count": 21,
   "metadata": {
    "colab": {
     "base_uri": "https://localhost:8080/",
     "height": 458
    },
    "id": "t5P9EgwcKRFR",
    "outputId": "34f37793-3ccd-4660-f008-efbef250fa93"
   },
   "outputs": [
    {
     "data": {
      "text/plain": [
       "0         0\n",
       "1         4\n",
       "2         8\n",
       "3        12\n",
       "4        16\n",
       "       ... \n",
       "883    3532\n",
       "884    3536\n",
       "885    3540\n",
       "886    3544\n",
       "887    3548\n",
       "Name: A, Length: 888, dtype: int32"
      ]
     },
     "execution_count": 21,
     "metadata": {},
     "output_type": "execute_result"
    }
   ],
   "source": [
    "# вызвать колонку\n",
    "df.A"
   ]
  },
  {
   "cell_type": "code",
   "execution_count": 22,
   "metadata": {
    "colab": {
     "base_uri": "https://localhost:8080/",
     "height": 112
    },
    "id": "2q-3kXGeKcHQ",
    "outputId": "3e628181-d84b-40ab-95e6-f1767ace7a01"
   },
   "outputs": [
    {
     "data": {
      "text/html": [
       "<div>\n",
       "<style scoped>\n",
       "    .dataframe tbody tr th:only-of-type {\n",
       "        vertical-align: middle;\n",
       "    }\n",
       "\n",
       "    .dataframe tbody tr th {\n",
       "        vertical-align: top;\n",
       "    }\n",
       "\n",
       "    .dataframe thead th {\n",
       "        text-align: right;\n",
       "    }\n",
       "</style>\n",
       "<table border=\"1\" class=\"dataframe\">\n",
       "  <thead>\n",
       "    <tr style=\"text-align: right;\">\n",
       "      <th></th>\n",
       "      <th>A</th>\n",
       "      <th>B</th>\n",
       "      <th>C</th>\n",
       "    </tr>\n",
       "  </thead>\n",
       "  <tbody>\n",
       "    <tr>\n",
       "      <th>1</th>\n",
       "      <td>4</td>\n",
       "      <td>5</td>\n",
       "      <td>6</td>\n",
       "    </tr>\n",
       "    <tr>\n",
       "      <th>2</th>\n",
       "      <td>8</td>\n",
       "      <td>9</td>\n",
       "      <td>10</td>\n",
       "    </tr>\n",
       "  </tbody>\n",
       "</table>\n",
       "</div>"
      ],
      "text/plain": [
       "   A  B   C\n",
       "1  4  5   6\n",
       "2  8  9  10"
      ]
     },
     "execution_count": 22,
     "metadata": {},
     "output_type": "execute_result"
    }
   ],
   "source": [
    "# выбрать строки и столбцы (срез данных)\n",
    "df.loc[1:2, 'A':'C']"
   ]
  },
  {
   "cell_type": "code",
   "execution_count": 23,
   "metadata": {
    "colab": {
     "base_uri": "https://localhost:8080/"
    },
    "id": "_XA3e2oRLA2F",
    "outputId": "da148d1d-3a68-40a7-c476-066fc206f49e"
   },
   "outputs": [
    {
     "data": {
      "text/plain": [
       "1"
      ]
     },
     "execution_count": 23,
     "metadata": {},
     "output_type": "execute_result"
    }
   ],
   "source": [
    "# выбрать один элемент\n",
    "df.loc[0, 'B']"
   ]
  },
  {
   "cell_type": "code",
   "execution_count": 24,
   "metadata": {
    "colab": {
     "base_uri": "https://localhost:8080/",
     "height": 175
    },
    "id": "A7nvk7ntLSfN",
    "outputId": "987ebad2-5240-4bc4-9d61-20d2177326cd"
   },
   "outputs": [
    {
     "data": {
      "text/html": [
       "<div>\n",
       "<style scoped>\n",
       "    .dataframe tbody tr th:only-of-type {\n",
       "        vertical-align: middle;\n",
       "    }\n",
       "\n",
       "    .dataframe tbody tr th {\n",
       "        vertical-align: top;\n",
       "    }\n",
       "\n",
       "    .dataframe thead th {\n",
       "        text-align: right;\n",
       "    }\n",
       "</style>\n",
       "<table border=\"1\" class=\"dataframe\">\n",
       "  <thead>\n",
       "    <tr style=\"text-align: right;\">\n",
       "      <th></th>\n",
       "      <th>B</th>\n",
       "      <th>C</th>\n",
       "      <th>D</th>\n",
       "    </tr>\n",
       "  </thead>\n",
       "  <tbody>\n",
       "    <tr>\n",
       "      <th>0</th>\n",
       "      <td>1</td>\n",
       "      <td>2</td>\n",
       "      <td>3</td>\n",
       "    </tr>\n",
       "    <tr>\n",
       "      <th>1</th>\n",
       "      <td>5</td>\n",
       "      <td>6</td>\n",
       "      <td>7</td>\n",
       "    </tr>\n",
       "    <tr>\n",
       "      <th>3</th>\n",
       "      <td>13</td>\n",
       "      <td>14</td>\n",
       "      <td>15</td>\n",
       "    </tr>\n",
       "    <tr>\n",
       "      <th>5</th>\n",
       "      <td>21</td>\n",
       "      <td>22</td>\n",
       "      <td>23</td>\n",
       "    </tr>\n",
       "  </tbody>\n",
       "</table>\n",
       "</div>"
      ],
      "text/plain": [
       "    B   C   D\n",
       "0   1   2   3\n",
       "1   5   6   7\n",
       "3  13  14  15\n",
       "5  21  22  23"
      ]
     },
     "execution_count": 24,
     "metadata": {},
     "output_type": "execute_result"
    }
   ],
   "source": [
    "# выбрать определенные строки и столбцы (срез данных)\n",
    "df.loc[[0, 1, 3, 5], 'B':'D']"
   ]
  },
  {
   "cell_type": "markdown",
   "metadata": {
    "id": "FeE5iTQlMTti"
   },
   "source": [
    "## Получение значений по индексу"
   ]
  },
  {
   "cell_type": "code",
   "execution_count": 25,
   "metadata": {
    "colab": {
     "base_uri": "https://localhost:8080/",
     "height": 423
    },
    "id": "h4dlZc1SLozW",
    "outputId": "6e7a80b7-84de-4262-8428-3e8833266599"
   },
   "outputs": [
    {
     "data": {
      "text/html": [
       "<div>\n",
       "<style scoped>\n",
       "    .dataframe tbody tr th:only-of-type {\n",
       "        vertical-align: middle;\n",
       "    }\n",
       "\n",
       "    .dataframe tbody tr th {\n",
       "        vertical-align: top;\n",
       "    }\n",
       "\n",
       "    .dataframe thead th {\n",
       "        text-align: right;\n",
       "    }\n",
       "</style>\n",
       "<table border=\"1\" class=\"dataframe\">\n",
       "  <thead>\n",
       "    <tr style=\"text-align: right;\">\n",
       "      <th></th>\n",
       "      <th>A</th>\n",
       "      <th>B</th>\n",
       "      <th>C</th>\n",
       "      <th>D</th>\n",
       "    </tr>\n",
       "  </thead>\n",
       "  <tbody>\n",
       "    <tr>\n",
       "      <th>0</th>\n",
       "      <td>0</td>\n",
       "      <td>1</td>\n",
       "      <td>2</td>\n",
       "      <td>3</td>\n",
       "    </tr>\n",
       "    <tr>\n",
       "      <th>1</th>\n",
       "      <td>4</td>\n",
       "      <td>5</td>\n",
       "      <td>6</td>\n",
       "      <td>7</td>\n",
       "    </tr>\n",
       "    <tr>\n",
       "      <th>2</th>\n",
       "      <td>8</td>\n",
       "      <td>9</td>\n",
       "      <td>10</td>\n",
       "      <td>11</td>\n",
       "    </tr>\n",
       "    <tr>\n",
       "      <th>3</th>\n",
       "      <td>12</td>\n",
       "      <td>13</td>\n",
       "      <td>14</td>\n",
       "      <td>15</td>\n",
       "    </tr>\n",
       "    <tr>\n",
       "      <th>4</th>\n",
       "      <td>16</td>\n",
       "      <td>17</td>\n",
       "      <td>18</td>\n",
       "      <td>19</td>\n",
       "    </tr>\n",
       "    <tr>\n",
       "      <th>...</th>\n",
       "      <td>...</td>\n",
       "      <td>...</td>\n",
       "      <td>...</td>\n",
       "      <td>...</td>\n",
       "    </tr>\n",
       "    <tr>\n",
       "      <th>883</th>\n",
       "      <td>3532</td>\n",
       "      <td>3533</td>\n",
       "      <td>3534</td>\n",
       "      <td>3535</td>\n",
       "    </tr>\n",
       "    <tr>\n",
       "      <th>884</th>\n",
       "      <td>3536</td>\n",
       "      <td>3537</td>\n",
       "      <td>3538</td>\n",
       "      <td>3539</td>\n",
       "    </tr>\n",
       "    <tr>\n",
       "      <th>885</th>\n",
       "      <td>3540</td>\n",
       "      <td>3541</td>\n",
       "      <td>3542</td>\n",
       "      <td>3543</td>\n",
       "    </tr>\n",
       "    <tr>\n",
       "      <th>886</th>\n",
       "      <td>3544</td>\n",
       "      <td>3545</td>\n",
       "      <td>3546</td>\n",
       "      <td>3547</td>\n",
       "    </tr>\n",
       "    <tr>\n",
       "      <th>887</th>\n",
       "      <td>3548</td>\n",
       "      <td>3549</td>\n",
       "      <td>3550</td>\n",
       "      <td>3551</td>\n",
       "    </tr>\n",
       "  </tbody>\n",
       "</table>\n",
       "<p>888 rows × 4 columns</p>\n",
       "</div>"
      ],
      "text/plain": [
       "        A     B     C     D\n",
       "0       0     1     2     3\n",
       "1       4     5     6     7\n",
       "2       8     9    10    11\n",
       "3      12    13    14    15\n",
       "4      16    17    18    19\n",
       "..    ...   ...   ...   ...\n",
       "883  3532  3533  3534  3535\n",
       "884  3536  3537  3538  3539\n",
       "885  3540  3541  3542  3543\n",
       "886  3544  3545  3546  3547\n",
       "887  3548  3549  3550  3551\n",
       "\n",
       "[888 rows x 4 columns]"
      ]
     },
     "execution_count": 25,
     "metadata": {},
     "output_type": "execute_result"
    }
   ],
   "source": [
    "df.iloc[:]"
   ]
  },
  {
   "cell_type": "code",
   "execution_count": 26,
   "metadata": {
    "colab": {
     "base_uri": "https://localhost:8080/",
     "height": 458
    },
    "id": "UV2s11fcNP6h",
    "outputId": "ea2a4d0e-c475-44d0-ea12-2cd867c75462"
   },
   "outputs": [
    {
     "data": {
      "text/plain": [
       "0         2\n",
       "1         6\n",
       "2        10\n",
       "3        14\n",
       "4        18\n",
       "       ... \n",
       "883    3534\n",
       "884    3538\n",
       "885    3542\n",
       "886    3546\n",
       "887    3550\n",
       "Name: C, Length: 888, dtype: int32"
      ]
     },
     "execution_count": 26,
     "metadata": {},
     "output_type": "execute_result"
    }
   ],
   "source": [
    "# вызов по индексу столбца\n",
    "df.iloc[:, 2]"
   ]
  },
  {
   "cell_type": "code",
   "execution_count": 27,
   "metadata": {
    "colab": {
     "base_uri": "https://localhost:8080/",
     "height": 209
    },
    "id": "XoudaDh6NZAb",
    "outputId": "52b59cf5-6946-4ce5-fa77-5c2b235a8785"
   },
   "outputs": [
    {
     "data": {
      "text/plain": [
       "A     8\n",
       "B     9\n",
       "C    10\n",
       "D    11\n",
       "Name: 2, dtype: int32"
      ]
     },
     "execution_count": 27,
     "metadata": {},
     "output_type": "execute_result"
    }
   ],
   "source": [
    "# вызывает 2-ю строку\n",
    "df.iloc[2]"
   ]
  },
  {
   "cell_type": "code",
   "execution_count": 28,
   "metadata": {
    "colab": {
     "base_uri": "https://localhost:8080/",
     "height": 209
    },
    "id": "e7dQ3wyMN5xg",
    "outputId": "c02a1aaf-cee5-4acb-edf5-678a81816b01"
   },
   "outputs": [
    {
     "data": {
      "text/plain": [
       "A     8\n",
       "B     9\n",
       "C    10\n",
       "D    11\n",
       "Name: 2, dtype: int32"
      ]
     },
     "execution_count": 28,
     "metadata": {},
     "output_type": "execute_result"
    }
   ],
   "source": [
    "df.iloc[2,:]"
   ]
  },
  {
   "cell_type": "code",
   "execution_count": 29,
   "metadata": {
    "colab": {
     "base_uri": "https://localhost:8080/"
    },
    "id": "LnZQ6PbUOj-b",
    "outputId": "3ea259a2-8109-421f-953d-bc637c9aa31d"
   },
   "outputs": [
    {
     "data": {
      "text/plain": [
       "array([   2,    6,   10,   14,   18,   22,   26,   30,   34,   38,   42,\n",
       "         46,   50,   54,   58,   62,   66,   70,   74,   78,   82,   86,\n",
       "         90,   94,   98,  102,  106,  110,  114,  118,  122,  126,  130,\n",
       "        134,  138,  142,  146,  150,  154,  158,  162,  166,  170,  174,\n",
       "        178,  182,  186,  190,  194,  198,  202,  206,  210,  214,  218,\n",
       "        222,  226,  230,  234,  238,  242,  246,  250,  254,  258,  262,\n",
       "        266,  270,  274,  278,  282,  286,  290,  294,  298,  302,  306,\n",
       "        310,  314,  318,  322,  326,  330,  334,  338,  342,  346,  350,\n",
       "        354,  358,  362,  366,  370,  374,  378,  382,  386,  390,  394,\n",
       "        398,  402,  406,  410,  414,  418,  422,  426,  430,  434,  438,\n",
       "        442,  446,  450,  454,  458,  462,  466,  470,  474,  478,  482,\n",
       "        486,  490,  494,  498,  502,  506,  510,  514,  518,  522,  526,\n",
       "        530,  534,  538,  542,  546,  550,  554,  558,  562,  566,  570,\n",
       "        574,  578,  582,  586,  590,  594,  598,  602,  606,  610,  614,\n",
       "        618,  622,  626,  630,  634,  638,  642,  646,  650,  654,  658,\n",
       "        662,  666,  670,  674,  678,  682,  686,  690,  694,  698,  702,\n",
       "        706,  710,  714,  718,  722,  726,  730,  734,  738,  742,  746,\n",
       "        750,  754,  758,  762,  766,  770,  774,  778,  782,  786,  790,\n",
       "        794,  798,  802,  806,  810,  814,  818,  822,  826,  830,  834,\n",
       "        838,  842,  846,  850,  854,  858,  862,  866,  870,  874,  878,\n",
       "        882,  886,  890,  894,  898,  902,  906,  910,  914,  918,  922,\n",
       "        926,  930,  934,  938,  942,  946,  950,  954,  958,  962,  966,\n",
       "        970,  974,  978,  982,  986,  990,  994,  998, 1002, 1006, 1010,\n",
       "       1014, 1018, 1022, 1026, 1030, 1034, 1038, 1042, 1046, 1050, 1054,\n",
       "       1058, 1062, 1066, 1070, 1074, 1078, 1082, 1086, 1090, 1094, 1098,\n",
       "       1102, 1106, 1110, 1114, 1118, 1122, 1126, 1130, 1134, 1138, 1142,\n",
       "       1146, 1150, 1154, 1158, 1162, 1166, 1170, 1174, 1178, 1182, 1186,\n",
       "       1190, 1194, 1198, 1202, 1206, 1210, 1214, 1218, 1222, 1226, 1230,\n",
       "       1234, 1238, 1242, 1246, 1250, 1254, 1258, 1262, 1266, 1270, 1274,\n",
       "       1278, 1282, 1286, 1290, 1294, 1298, 1302, 1306, 1310, 1314, 1318,\n",
       "       1322, 1326, 1330, 1334, 1338, 1342, 1346, 1350, 1354, 1358, 1362,\n",
       "       1366, 1370, 1374, 1378, 1382, 1386, 1390, 1394, 1398, 1402, 1406,\n",
       "       1410, 1414, 1418, 1422, 1426, 1430, 1434, 1438, 1442, 1446, 1450,\n",
       "       1454, 1458, 1462, 1466, 1470, 1474, 1478, 1482, 1486, 1490, 1494,\n",
       "       1498, 1502, 1506, 1510, 1514, 1518, 1522, 1526, 1530, 1534, 1538,\n",
       "       1542, 1546, 1550, 1554, 1558, 1562, 1566, 1570, 1574, 1578, 1582,\n",
       "       1586, 1590, 1594, 1598, 1602, 1606, 1610, 1614, 1618, 1622, 1626,\n",
       "       1630, 1634, 1638, 1642, 1646, 1650, 1654, 1658, 1662, 1666, 1670,\n",
       "       1674, 1678, 1682, 1686, 1690, 1694, 1698, 1702, 1706, 1710, 1714,\n",
       "       1718, 1722, 1726, 1730, 1734, 1738, 1742, 1746, 1750, 1754, 1758,\n",
       "       1762, 1766, 1770, 1774, 1778, 1782, 1786, 1790, 1794, 1798, 1802,\n",
       "       1806, 1810, 1814, 1818, 1822, 1826, 1830, 1834, 1838, 1842, 1846,\n",
       "       1850, 1854, 1858, 1862, 1866, 1870, 1874, 1878, 1882, 1886, 1890,\n",
       "       1894, 1898, 1902, 1906, 1910, 1914, 1918, 1922, 1926, 1930, 1934,\n",
       "       1938, 1942, 1946, 1950, 1954, 1958, 1962, 1966, 1970, 1974, 1978,\n",
       "       1982, 1986, 1990, 1994, 1998, 2002, 2006, 2010, 2014, 2018, 2022,\n",
       "       2026, 2030, 2034, 2038, 2042, 2046, 2050, 2054, 2058, 2062, 2066,\n",
       "       2070, 2074, 2078, 2082, 2086, 2090, 2094, 2098, 2102, 2106, 2110,\n",
       "       2114, 2118, 2122, 2126, 2130, 2134, 2138, 2142, 2146, 2150, 2154,\n",
       "       2158, 2162, 2166, 2170, 2174, 2178, 2182, 2186, 2190, 2194, 2198,\n",
       "       2202, 2206, 2210, 2214, 2218, 2222, 2226, 2230, 2234, 2238, 2242,\n",
       "       2246, 2250, 2254, 2258, 2262, 2266, 2270, 2274, 2278, 2282, 2286,\n",
       "       2290, 2294, 2298, 2302, 2306, 2310, 2314, 2318, 2322, 2326, 2330,\n",
       "       2334, 2338, 2342, 2346, 2350, 2354, 2358, 2362, 2366, 2370, 2374,\n",
       "       2378, 2382, 2386, 2390, 2394, 2398, 2402, 2406, 2410, 2414, 2418,\n",
       "       2422, 2426, 2430, 2434, 2438, 2442, 2446, 2450, 2454, 2458, 2462,\n",
       "       2466, 2470, 2474, 2478, 2482, 2486, 2490, 2494, 2498, 2502, 2506,\n",
       "       2510, 2514, 2518, 2522, 2526, 2530, 2534, 2538, 2542, 2546, 2550,\n",
       "       2554, 2558, 2562, 2566, 2570, 2574, 2578, 2582, 2586, 2590, 2594,\n",
       "       2598, 2602, 2606, 2610, 2614, 2618, 2622, 2626, 2630, 2634, 2638,\n",
       "       2642, 2646, 2650, 2654, 2658, 2662, 2666, 2670, 2674, 2678, 2682,\n",
       "       2686, 2690, 2694, 2698, 2702, 2706, 2710, 2714, 2718, 2722, 2726,\n",
       "       2730, 2734, 2738, 2742, 2746, 2750, 2754, 2758, 2762, 2766, 2770,\n",
       "       2774, 2778, 2782, 2786, 2790, 2794, 2798, 2802, 2806, 2810, 2814,\n",
       "       2818, 2822, 2826, 2830, 2834, 2838, 2842, 2846, 2850, 2854, 2858,\n",
       "       2862, 2866, 2870, 2874, 2878, 2882, 2886, 2890, 2894, 2898, 2902,\n",
       "       2906, 2910, 2914, 2918, 2922, 2926, 2930, 2934, 2938, 2942, 2946,\n",
       "       2950, 2954, 2958, 2962, 2966, 2970, 2974, 2978, 2982, 2986, 2990,\n",
       "       2994, 2998, 3002, 3006, 3010, 3014, 3018, 3022, 3026, 3030, 3034,\n",
       "       3038, 3042, 3046, 3050, 3054, 3058, 3062, 3066, 3070, 3074, 3078,\n",
       "       3082, 3086, 3090, 3094, 3098, 3102, 3106, 3110, 3114, 3118, 3122,\n",
       "       3126, 3130, 3134, 3138, 3142, 3146, 3150, 3154, 3158, 3162, 3166,\n",
       "       3170, 3174, 3178, 3182, 3186, 3190, 3194, 3198, 3202, 3206, 3210,\n",
       "       3214, 3218, 3222, 3226, 3230, 3234, 3238, 3242, 3246, 3250, 3254,\n",
       "       3258, 3262, 3266, 3270, 3274, 3278, 3282, 3286, 3290, 3294, 3298,\n",
       "       3302, 3306, 3310, 3314, 3318, 3322, 3326, 3330, 3334, 3338, 3342,\n",
       "       3346, 3350, 3354, 3358, 3362, 3366, 3370, 3374, 3378, 3382, 3386,\n",
       "       3390, 3394, 3398, 3402, 3406, 3410, 3414, 3418, 3422, 3426, 3430,\n",
       "       3434, 3438, 3442, 3446, 3450, 3454, 3458, 3462, 3466, 3470, 3474,\n",
       "       3478, 3482, 3486, 3490, 3494, 3498, 3502, 3506, 3510, 3514, 3518,\n",
       "       3522, 3526, 3530, 3534, 3538, 3542, 3546, 3550])"
      ]
     },
     "execution_count": 29,
     "metadata": {},
     "output_type": "execute_result"
    }
   ],
   "source": [
    "# выбираем значения по индексу столбца\n",
    "df.values[:,2]"
   ]
  },
  {
   "cell_type": "markdown",
   "metadata": {
    "id": "Gkpn9lU3QZCp"
   },
   "source": [
    "## Фильтрация по маске"
   ]
  },
  {
   "cell_type": "code",
   "execution_count": 30,
   "metadata": {
    "colab": {
     "base_uri": "https://localhost:8080/",
     "height": 458
    },
    "id": "lEpLkGfgO_JT",
    "outputId": "9016510a-8727-4cd4-b33d-db9a9493a7ae"
   },
   "outputs": [
    {
     "data": {
      "text/plain": [
       "0      False\n",
       "1      False\n",
       "2      False\n",
       "3      False\n",
       "4      False\n",
       "       ...  \n",
       "883     True\n",
       "884     True\n",
       "885     True\n",
       "886     True\n",
       "887     True\n",
       "Name: A, Length: 888, dtype: bool"
      ]
     },
     "execution_count": 30,
     "metadata": {},
     "output_type": "execute_result"
    }
   ],
   "source": [
    "# проверка всех элементов\n",
    "df['A'] > 300"
   ]
  },
  {
   "cell_type": "code",
   "execution_count": 31,
   "metadata": {
    "colab": {
     "base_uri": "https://localhost:8080/",
     "height": 423
    },
    "id": "0DzqIUVYQlfU",
    "outputId": "ec3a90bd-52c6-41fa-cfdb-813bb720025e"
   },
   "outputs": [
    {
     "data": {
      "text/html": [
       "<div>\n",
       "<style scoped>\n",
       "    .dataframe tbody tr th:only-of-type {\n",
       "        vertical-align: middle;\n",
       "    }\n",
       "\n",
       "    .dataframe tbody tr th {\n",
       "        vertical-align: top;\n",
       "    }\n",
       "\n",
       "    .dataframe thead th {\n",
       "        text-align: right;\n",
       "    }\n",
       "</style>\n",
       "<table border=\"1\" class=\"dataframe\">\n",
       "  <thead>\n",
       "    <tr style=\"text-align: right;\">\n",
       "      <th></th>\n",
       "      <th>A</th>\n",
       "      <th>B</th>\n",
       "      <th>C</th>\n",
       "      <th>D</th>\n",
       "    </tr>\n",
       "  </thead>\n",
       "  <tbody>\n",
       "    <tr>\n",
       "      <th>76</th>\n",
       "      <td>304</td>\n",
       "      <td>305</td>\n",
       "      <td>306</td>\n",
       "      <td>307</td>\n",
       "    </tr>\n",
       "    <tr>\n",
       "      <th>77</th>\n",
       "      <td>308</td>\n",
       "      <td>309</td>\n",
       "      <td>310</td>\n",
       "      <td>311</td>\n",
       "    </tr>\n",
       "    <tr>\n",
       "      <th>78</th>\n",
       "      <td>312</td>\n",
       "      <td>313</td>\n",
       "      <td>314</td>\n",
       "      <td>315</td>\n",
       "    </tr>\n",
       "    <tr>\n",
       "      <th>79</th>\n",
       "      <td>316</td>\n",
       "      <td>317</td>\n",
       "      <td>318</td>\n",
       "      <td>319</td>\n",
       "    </tr>\n",
       "    <tr>\n",
       "      <th>80</th>\n",
       "      <td>320</td>\n",
       "      <td>321</td>\n",
       "      <td>322</td>\n",
       "      <td>323</td>\n",
       "    </tr>\n",
       "    <tr>\n",
       "      <th>...</th>\n",
       "      <td>...</td>\n",
       "      <td>...</td>\n",
       "      <td>...</td>\n",
       "      <td>...</td>\n",
       "    </tr>\n",
       "    <tr>\n",
       "      <th>883</th>\n",
       "      <td>3532</td>\n",
       "      <td>3533</td>\n",
       "      <td>3534</td>\n",
       "      <td>3535</td>\n",
       "    </tr>\n",
       "    <tr>\n",
       "      <th>884</th>\n",
       "      <td>3536</td>\n",
       "      <td>3537</td>\n",
       "      <td>3538</td>\n",
       "      <td>3539</td>\n",
       "    </tr>\n",
       "    <tr>\n",
       "      <th>885</th>\n",
       "      <td>3540</td>\n",
       "      <td>3541</td>\n",
       "      <td>3542</td>\n",
       "      <td>3543</td>\n",
       "    </tr>\n",
       "    <tr>\n",
       "      <th>886</th>\n",
       "      <td>3544</td>\n",
       "      <td>3545</td>\n",
       "      <td>3546</td>\n",
       "      <td>3547</td>\n",
       "    </tr>\n",
       "    <tr>\n",
       "      <th>887</th>\n",
       "      <td>3548</td>\n",
       "      <td>3549</td>\n",
       "      <td>3550</td>\n",
       "      <td>3551</td>\n",
       "    </tr>\n",
       "  </tbody>\n",
       "</table>\n",
       "<p>812 rows × 4 columns</p>\n",
       "</div>"
      ],
      "text/plain": [
       "        A     B     C     D\n",
       "76    304   305   306   307\n",
       "77    308   309   310   311\n",
       "78    312   313   314   315\n",
       "79    316   317   318   319\n",
       "80    320   321   322   323\n",
       "..    ...   ...   ...   ...\n",
       "883  3532  3533  3534  3535\n",
       "884  3536  3537  3538  3539\n",
       "885  3540  3541  3542  3543\n",
       "886  3544  3545  3546  3547\n",
       "887  3548  3549  3550  3551\n",
       "\n",
       "[812 rows x 4 columns]"
      ]
     },
     "execution_count": 31,
     "metadata": {},
     "output_type": "execute_result"
    }
   ],
   "source": [
    "# используем условный операток как маску\n",
    "df[df['A'] > 300]"
   ]
  },
  {
   "cell_type": "markdown",
   "metadata": {
    "id": "HiWplN5VSv1E"
   },
   "source": [
    "## Сохранение в csv файл"
   ]
  },
  {
   "cell_type": "code",
   "execution_count": 32,
   "metadata": {
    "id": "-qJDb6xuQ38J"
   },
   "outputs": [],
   "source": [
    "df.to_csv('general_data.csv')"
   ]
  },
  {
   "cell_type": "code",
   "execution_count": 36,
   "metadata": {
    "id": "j7CgK-ZgS90D"
   },
   "outputs": [],
   "source": [
    "df.to_csv('C:/BMSTU_coding/bmstu_coding/general_data.csv', index = False)"
   ]
  },
  {
   "cell_type": "code",
   "execution_count": null,
   "metadata": {
    "id": "dzyaB_k2TdX8"
   },
   "outputs": [],
   "source": []
  }
 ],
 "metadata": {
  "colab": {
   "collapsed_sections": [
    "ghjNvtQPHkmo"
   ],
   "provenance": []
  },
  "kernelspec": {
   "display_name": "Python 3 (ipykernel)",
   "language": "python",
   "name": "python3"
  },
  "language_info": {
   "codemirror_mode": {
    "name": "ipython",
    "version": 3
   },
   "file_extension": ".py",
   "mimetype": "text/x-python",
   "name": "python",
   "nbconvert_exporter": "python",
   "pygments_lexer": "ipython3",
   "version": "3.7.0"
  }
 },
 "nbformat": 4,
 "nbformat_minor": 4
}
