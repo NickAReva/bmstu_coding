{
 "cells": [
  {
   "cell_type": "code",
   "execution_count": 1,
   "id": "5ebfe455-dafb-4012-aa8a-baaf1db7062f",
   "metadata": {},
   "outputs": [],
   "source": [
    "import pandas as pd\n",
    "import numpy as np"
   ]
  },
  {
   "cell_type": "code",
   "execution_count": 4,
   "id": "cde5f379-12ca-4f36-8f88-dc39062ab308",
   "metadata": {},
   "outputs": [
    {
     "data": {
      "text/plain": [
       "0     5\n",
       "1     6\n",
       "2     7\n",
       "3     8\n",
       "4     9\n",
       "5    10\n",
       "dtype: int64"
      ]
     },
     "execution_count": 4,
     "metadata": {},
     "output_type": "execute_result"
    }
   ],
   "source": [
    "pd_series = pd.Series([5, 6, 7, 8, 9, 10])\n",
    "pd_series"
   ]
  },
  {
   "cell_type": "code",
   "execution_count": 7,
   "id": "1ee6cb41-5f51-4584-ab04-831ded764a92",
   "metadata": {},
   "outputs": [
    {
     "data": {
      "text/plain": [
       "RangeIndex(start=0, stop=6, step=1)"
      ]
     },
     "execution_count": 7,
     "metadata": {},
     "output_type": "execute_result"
    }
   ],
   "source": [
    "pd_series.index"
   ]
  },
  {
   "cell_type": "code",
   "execution_count": 10,
   "id": "bca38571-e850-45a5-a2a7-ad5ff99aa391",
   "metadata": {},
   "outputs": [
    {
     "data": {
      "text/plain": [
       "RangeIndex(start=1, stop=6, step=2)"
      ]
     },
     "execution_count": 10,
     "metadata": {},
     "output_type": "execute_result"
    }
   ],
   "source": [
    "r_index=pd.RangeIndex(1, 6, 2)\n",
    "r_index"
   ]
  },
  {
   "cell_type": "code",
   "execution_count": 11,
   "id": "8f70b661-e73e-4974-b04c-4b3ed14d2262",
   "metadata": {},
   "outputs": [
    {
     "data": {
      "text/plain": [
       "<generator object RangeIndex.__iter__ at 0x000001A25D661F00>"
      ]
     },
     "execution_count": 11,
     "metadata": {},
     "output_type": "execute_result"
    }
   ],
   "source": [
    "iter(r_index)"
   ]
  },
  {
   "cell_type": "code",
   "execution_count": 12,
   "id": "7818efe7-a4ff-4289-9cd4-b1e3f80ce25c",
   "metadata": {},
   "outputs": [
    {
     "data": {
      "text/plain": [
       "array([ 5,  6,  7,  8,  9, 10], dtype=int64)"
      ]
     },
     "execution_count": 12,
     "metadata": {},
     "output_type": "execute_result"
    }
   ],
   "source": [
    "pd_series.values"
   ]
  },
  {
   "cell_type": "code",
   "execution_count": 13,
   "id": "b3e0f0b8-707e-46a3-86c1-9eadc7ad3c64",
   "metadata": {},
   "outputs": [
    {
     "data": {
      "text/plain": [
       "2"
      ]
     },
     "execution_count": 13,
     "metadata": {},
     "output_type": "execute_result"
    }
   ],
   "source": [
    "pd_array = pd.array([1, 2, 3])\n",
    "pd_array[1]"
   ]
  },
  {
   "cell_type": "code",
   "execution_count": 14,
   "id": "0af978a2-3012-44e2-80a4-e1f160dd8d5c",
   "metadata": {},
   "outputs": [
    {
     "data": {
      "text/plain": [
       "Альфа Центравра    4.2421\n",
       "Звезда Барнарда    5.9630\n",
       "Луман 16           6.5880\n",
       "WISE 0855-0714     7.1800\n",
       "Вольф 359          7.7825\n",
       "Лаланд 21185       8.2905\n",
       "dtype: float64"
      ]
     },
     "execution_count": 14,
     "metadata": {},
     "output_type": "execute_result"
    }
   ],
   "source": [
    "stars_sys = pd.Series(\n",
    "    [4.2421, 5.9630, 6.588, 7.18, 7.7825, 8.2905],\n",
    "    index = ['Альфа Центравра', 'Звезда Барнарда', 'Луман 16', 'WISE 0855-0714', 'Вольф 359', 'Лаланд 21185'])\n",
    "stars_sys"
   ]
  },
  {
   "cell_type": "code",
   "execution_count": null,
   "id": "7d52bfc0-31c2-40e1-8881-16171cb77adc",
   "metadata": {},
   "outputs": [],
   "source": []
  }
 ],
 "metadata": {
  "kernelspec": {
   "display_name": "Python 3 (ipykernel)",
   "language": "python",
   "name": "python3"
  },
  "language_info": {
   "codemirror_mode": {
    "name": "ipython",
    "version": 3
   },
   "file_extension": ".py",
   "mimetype": "text/x-python",
   "name": "python",
   "nbconvert_exporter": "python",
   "pygments_lexer": "ipython3",
   "version": "3.11.0"
  }
 },
 "nbformat": 4,
 "nbformat_minor": 5
}
