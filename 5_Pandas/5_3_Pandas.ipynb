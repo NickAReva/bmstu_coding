{
 "cells": [
  {
   "cell_type": "code",
   "execution_count": null,
   "id": "29351688-d250-4e2f-8649-262573938f78",
   "metadata": {},
   "outputs": [],
   "source": [
    "import numpy as np\n",
    "import pandas as pd"
   ]
  },
  {
   "cell_type": "markdown",
   "id": "4a7169bc-cb75-463f-ac7b-10cbde4ad52f",
   "metadata": {},
   "source": [
    "## Join"
   ]
  },
  {
   "cell_type": "code",
   "execution_count": null,
   "id": "13889ed9-9498-4917-b768-27773386530a",
   "metadata": {},
   "outputs": [],
   "source": [
    "left = pd.DataFrame(\n",
    "        {\n",
    "            \"A\":[\"A0\", \"A1\", \"A2\"],\n",
    "            \"B\":[\"B0\", \"B1\", \"B2\"]\n",
    "        },\n",
    "        index = [\"K0\", \"K1\", \"K2\"]\n",
    "    )\n",
    "\n",
    "right = pd.DataFrame(\n",
    "        {\n",
    "            \"C\":[\"C0\", \"C2\", \"C3\"],\n",
    "            \"D\":[\"D0\", \"D2\", \"D3\"]\n",
    "        },\n",
    "        index = [\"K0\", \"K2\", \"K3\"]\n",
    "    )\n",
    "\n",
    "result = left.join(right)\n",
    "result"
   ]
  },
  {
   "cell_type": "code",
   "execution_count": null,
   "id": "9320f60a-673d-4be8-9009-3a8977697b06",
   "metadata": {},
   "outputs": [],
   "source": [
    "result = left.join(right, how = 'right')\n",
    "result"
   ]
  },
  {
   "cell_type": "markdown",
   "id": "c76f3e9f-17d9-482a-b503-c776d962e5db",
   "metadata": {},
   "source": [
    "## Merge"
   ]
  },
  {
   "cell_type": "code",
   "execution_count": null,
   "id": "eac99205-91be-41b2-84c3-f9b3510bd8bb",
   "metadata": {},
   "outputs": [],
   "source": [
    "result = pd.merge(\n",
    "    left, right,\n",
    "    left_index = True, right_index = True,\n",
    "    how = 'outer'\n",
    "    )\n",
    "\n",
    "result"
   ]
  },
  {
   "cell_type": "markdown",
   "id": "cf7395cb-941d-451e-b9ec-dac3a1892e78",
   "metadata": {},
   "source": [
    "## Join by Index and Key"
   ]
  },
  {
   "cell_type": "code",
   "execution_count": null,
   "id": "409449f6-f8b7-4ec0-bc33-b898506d1889",
   "metadata": {},
   "outputs": [],
   "source": [
    "left = pd.DataFrame(\n",
    "        {\n",
    "            \"A\":[\"A0\", \"A1\", \"A2\", \"A3\"],\n",
    "            \"B\":[\"B0\", \"B1\", \"B2\", \"B3\"],\n",
    "            \"key\":[\"K0\", \"K1\", \"K0\", \"K1\"]\n",
    "        },\n",
    "        index = [\"K0\", \"K1\", \"K0\", \"K1\"]\n",
    "    )\n",
    "\n",
    "right = pd.DataFrame(\n",
    "        {\n",
    "            \"C\":[\"C0\", \"C1\"],\n",
    "            \"D\":[\"D0\", \"D1\"]\n",
    "        },\n",
    "        index = [\"K0\", \"K1\"]\n",
    "    )"
   ]
  },
  {
   "cell_type": "code",
   "execution_count": null,
   "id": "8754731a-cbaa-4b0f-a5f2-0b9960a70b84",
   "metadata": {},
   "outputs": [],
   "source": [
    "result = left.join(right, on=\"key\")\n",
    "result"
   ]
  },
  {
   "cell_type": "code",
   "execution_count": null,
   "id": "27551ff3-784a-488b-bd3d-d7033d47ac5b",
   "metadata": {},
   "outputs": [],
   "source": [
    "result = pd.merge(\n",
    "    left, right,\n",
    "    left_on = \"key\", right_index = True,\n",
    "    how = 'left'\n",
    "    )\n",
    "\n",
    "result"
   ]
  },
  {
   "cell_type": "markdown",
   "id": "6808492d-f22c-49ac-91a6-a82ea024d4d7",
   "metadata": {},
   "source": [
    "## Concatanate"
   ]
  },
  {
   "cell_type": "code",
   "execution_count": null,
   "id": "9e4b8f01-ff65-4df9-b649-067a0126fb5f",
   "metadata": {},
   "outputs": [],
   "source": [
    "df1 = pd.DataFrame(\n",
    "        {\n",
    "            \"A\":[\"A0\", \"A1\", \"A2\", \"A3\"],\n",
    "            \"B\":[\"B0\", \"B1\", \"B2\", \"B3\"],\n",
    "            \"C\":[\"C0\", \"C1\", \"C2\", \"C3\"],\n",
    "            \"D\":[\"D0\", \"D1\", \"D2\", \"D3\"]\n",
    "        },\n",
    "        index = [0, 1, 2, 3],\n",
    "    )\n",
    "\n",
    "df2 = pd.DataFrame(\n",
    "        {\n",
    "            \"A\":[\"A4\", \"A5\", \"A6\", \"A7\"],\n",
    "            \"B\":[\"B4\", \"B5\", \"B6\", \"B7\"],\n",
    "            \"C\":[\"C4\", \"C5\", \"C6\", \"C7\"],\n",
    "            \"D\":[\"D4\", \"D5\", \"D6\", \"D7\"]\n",
    "        },\n",
    "        index = [4, 5, 6, 7],\n",
    "    )\n",
    "\n",
    "df3 = pd.DataFrame(\n",
    "        {\n",
    "            \"A\":[\"A8\", \"A9\", \"A10\", \"A11\"],\n",
    "            \"B\":[\"B8\", \"B9\", \"B10\", \"B11\"],\n",
    "            \"C\":[\"C8\", \"C9\", \"C10\", \"C11\"],\n",
    "            \"D\":[\"D8\", \"D9\", \"D10\", \"D11\"]\n",
    "        },\n",
    "        index = [8, 9, 10, 11],\n",
    "    )"
   ]
  },
  {
   "cell_type": "code",
   "execution_count": null,
   "id": "abc9aff5-1cf9-4d1b-ad64-ed0df713cb2a",
   "metadata": {
    "scrolled": true
   },
   "outputs": [],
   "source": [
    "pd.concat([df1, df2, df3], axis = 0)"
   ]
  },
  {
   "cell_type": "code",
   "execution_count": null,
   "id": "01d59bd2-9e66-4552-82f7-38ea35e7337e",
   "metadata": {},
   "outputs": [],
   "source": [
    "df4 = pd.DataFrame(\n",
    "        {\n",
    "            \"B\":[\"B2\", \"B3\", \"B6\", \"B7\"],\n",
    "            \"D\":[\"D2\", \"D3\", \"D6\", \"D7\"],\n",
    "            \"F\":[\"F2\", \"F3\", \"F6\", \"F7\"],\n",
    "        },\n",
    "        index = [2, 3, 6, 7],\n",
    "    )\n",
    "\n",
    "result = pd.concat([df1, df4], axis = 1)"
   ]
  },
  {
   "cell_type": "code",
   "execution_count": null,
   "id": "7113f09a-6abe-4f83-b9ff-6eda9b7b1f27",
   "metadata": {},
   "outputs": [],
   "source": [
    "result"
   ]
  },
  {
   "cell_type": "code",
   "execution_count": null,
   "id": "144871d0-f09a-4f0c-814d-2e4980235004",
   "metadata": {},
   "outputs": [],
   "source": [
    "result = pd.concat([df1, df4], axis=1, join='inner')\n",
    "result"
   ]
  },
  {
   "cell_type": "code",
   "execution_count": null,
   "id": "ef3c9fc7-8dc5-4b68-b55f-2f6665acb0c6",
   "metadata": {},
   "outputs": [],
   "source": []
  }
 ],
 "metadata": {
  "kernelspec": {
   "display_name": "Python 3 (ipykernel)",
   "language": "python",
   "name": "python3"
  },
  "language_info": {
   "codemirror_mode": {
    "name": "ipython",
    "version": 3
   },
   "file_extension": ".py",
   "mimetype": "text/x-python",
   "name": "python",
   "nbconvert_exporter": "python",
   "pygments_lexer": "ipython3",
   "version": "3.12.4"
  }
 },
 "nbformat": 4,
 "nbformat_minor": 5
}
