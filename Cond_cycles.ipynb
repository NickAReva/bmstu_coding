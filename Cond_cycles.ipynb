{
 "cells": [
  {
   "cell_type": "code",
   "execution_count": 16,
   "id": "37d42307-03e2-4a01-9df0-3597c47e3aa4",
   "metadata": {},
   "outputs": [
    {
     "name": "stdout",
     "output_type": "stream",
     "text": [
      "10.00\n"
     ]
    }
   ],
   "source": [
    "x = 2.5\n",
    "x *= 4\n",
    "print(f\"{x:.2f}\")"
   ]
  },
  {
   "cell_type": "code",
   "execution_count": 18,
   "id": "4bc08a59-68ce-44e1-9b39-88659d13e441",
   "metadata": {},
   "outputs": [
    {
     "name": "stdin",
     "output_type": "stream",
     "text": [
      "Введите оценку:  78\n",
      "Введите оценку:  89\n",
      "Введите оценку:  68\n",
      "Введите оценку:  84\n",
      "Введите оценку:  56\n"
     ]
    },
    {
     "name": "stdout",
     "output_type": "stream",
     "text": [
      "НАПРАВЛЕН НА ПЕРЕСДАЧУ\n"
     ]
    }
   ],
   "source": [
    "i = 1\n",
    "while i <= 5:\n",
    "    note = int(input(\"Введите оценку: \"))\n",
    "    if note < 60:\n",
    "        print('НАПРАВЛЕН НА ПЕРЕСДАЧУ')\n",
    "        break\n",
    "    i += 1\n",
    "else:\n",
    "    print('СТУДЕНТ ЗАКРЫЛ СЕССИЮ БЕЗ ПЕРЕСДАЧ')"
   ]
  },
  {
   "cell_type": "code",
   "execution_count": 1,
   "id": "185b598b-e1a6-4462-8593-65a5e486a53e",
   "metadata": {},
   "outputs": [
    {
     "name": "stdin",
     "output_type": "stream",
     "text": [
      "Введите натуральное число > 1:  28\n"
     ]
    },
    {
     "name": "stdout",
     "output_type": "stream",
     "text": [
      "2 2 7 "
     ]
    }
   ],
   "source": [
    "n = int(input('Введите натуральное число > 1: '))\n",
    "d = 1\n",
    "while n > 1:\n",
    "    d += 1\n",
    "    if n % d == 0:\n",
    "        print(d, end=' ')\n",
    "        n /= d\n",
    "        d -= 1"
   ]
  },
  {
   "cell_type": "code",
   "execution_count": 11,
   "id": "5c74dce3-b9a5-4169-8ac0-0c8b360fb9d4",
   "metadata": {},
   "outputs": [
    {
     "name": "stdout",
     "output_type": "stream",
     "text": [
      "34\n",
      "{1, 2, 3, 4, 7, 49, 23, 28, 63}\n"
     ]
    }
   ],
   "source": [
    "x = (1,2,3,4,7,49,4,23,63,28,28)\n",
    "total = 0\n",
    "x_set = set(x)\n",
    "for i in x_set:\n",
    "    if i % 2 == 0:\n",
    "        total+=i\n",
    "print(total)\n",
    "print(x_set)"
   ]
  },
  {
   "cell_type": "code",
   "execution_count": 21,
   "id": "0f3d449c-66eb-4a61-84a2-aa5dd908dea3",
   "metadata": {},
   "outputs": [
    {
     "name": "stdout",
     "output_type": "stream",
     "text": [
      "<key> =  foo , <value> =  1\n",
      "<key> =  bar , <value> =  2\n",
      "<key> =  baz , <value> =  3\n"
     ]
    }
   ],
   "source": [
    "d = {'foo': 1, 'bar': 2, 'baz': 3}\n",
    "for k, v in d.items():\n",
    "    print('<key> = ', k, ', <value> = ', v)"
   ]
  },
  {
   "cell_type": "code",
   "execution_count": 22,
   "id": "50465b6d-313c-4fcf-a770-e28b8ccac53e",
   "metadata": {},
   "outputs": [
    {
     "name": "stdout",
     "output_type": "stream",
     "text": [
      "0\n",
      "1\n",
      "2\n"
     ]
    }
   ],
   "source": [
    "for i in range(3):\n",
    "    print(i)"
   ]
  },
  {
   "cell_type": "code",
   "execution_count": 24,
   "id": "05f7c847-fe8b-4e79-9262-966793e3cbfd",
   "metadata": {},
   "outputs": [
    {
     "name": "stdout",
     "output_type": "stream",
     "text": [
      "0\n",
      "1\n",
      "2\n",
      "3\n",
      "4\n"
     ]
    }
   ],
   "source": [
    "for i in range(0, 5):\n",
    "    print(i)"
   ]
  },
  {
   "cell_type": "code",
   "execution_count": 30,
   "id": "b6f04f72-308c-490a-a1f9-006739d78584",
   "metadata": {},
   "outputs": [
    {
     "name": "stdout",
     "output_type": "stream",
     "text": [
      "10\n",
      "9\n"
     ]
    }
   ],
   "source": [
    "for i in range(10, 8, -1):\n",
    "    print(i)"
   ]
  },
  {
   "cell_type": "code",
   "execution_count": 34,
   "id": "3a42b924-f593-4e0b-aa1a-20b0bf7f5c5d",
   "metadata": {},
   "outputs": [
    {
     "name": "stdout",
     "output_type": "stream",
     "text": [
      "Элемент найден\n",
      "\n",
      "5-й элемент равен 3.14\n"
     ]
    }
   ],
   "source": [
    "a_list = [2, 1, 0, -7, 3.14, 2.7, 5]\n",
    "v = 3.14\n",
    "for a in a_list:\n",
    "    if v == a:\n",
    "        print('Элемент найден\\n')\n",
    "        print(f\"{a_list.index(a) + 1:.0f}-й элемент равен {v}\")\n",
    "        break\n",
    "else:\n",
    "    print('Элемент не найден')"
   ]
  },
  {
   "cell_type": "code",
   "execution_count": 37,
   "id": "710ff035-e3cd-4229-9d3a-4fd1c4385299",
   "metadata": {},
   "outputs": [
    {
     "name": "stdout",
     "output_type": "stream",
     "text": [
      "list: \t A collection of values that are not connected, but have an order. \n",
      "\n",
      "dictionary: \t A collection of key-value pairs. \n",
      "\n",
      "function: \t A named set of instructions that defines a set of actions in Python. \n",
      "\n",
      "fiction: \t A named set of instructions. \n",
      "\n"
     ]
    }
   ],
   "source": [
    "python_words = {\n",
    "    'list': 'A collection of values that are not connected, but have an order.',\n",
    "    'dictionary': 'A collection of key-value pairs.',\n",
    "    'function': 'A named set of instructions that defines a set of actions in Python.',\n",
    "}\n",
    "\n",
    "python_words['fiction'] = 'A named set of instructions.'\n",
    "\n",
    "for k,v in python_words.items():\n",
    "    print(f\"{k}: \\t {v} \\n\")"
   ]
  },
  {
   "cell_type": "code",
   "execution_count": 39,
   "id": "0c91a7b6-e525-4b5a-a794-938c2eba12e3",
   "metadata": {},
   "outputs": [
    {
     "data": {
      "text/plain": [
       "{1, 2, 3, 5, 6}"
      ]
     },
     "execution_count": 39,
     "metadata": {},
     "output_type": "execute_result"
    }
   ],
   "source": [
    "set([1, 2, 6, 6, 1, 3, 5, 3, 5, 2])"
   ]
  },
  {
   "cell_type": "code",
   "execution_count": 41,
   "id": "c4783cc6-a5ea-4721-8c36-3ce0b6d5b68d",
   "metadata": {},
   "outputs": [
    {
     "data": {
      "text/plain": [
       "{2, 6}"
      ]
     },
     "execution_count": 41,
     "metadata": {},
     "output_type": "execute_result"
    }
   ],
   "source": [
    "A = set([1, 2, 4, 6])\n",
    "B = set([2, 3, 6, 8])\n",
    "A.intersection(B)"
   ]
  },
  {
   "cell_type": "code",
   "execution_count": 42,
   "id": "5dd14ecc-6f6d-44ca-a47f-0f88fe7de1d8",
   "metadata": {},
   "outputs": [
    {
     "data": {
      "text/plain": [
       "{1, 2, 3, 4, 6, 8}"
      ]
     },
     "execution_count": 42,
     "metadata": {},
     "output_type": "execute_result"
    }
   ],
   "source": [
    "A.union(B)"
   ]
  },
  {
   "cell_type": "code",
   "execution_count": 43,
   "id": "69b7ec59-a37c-448e-823a-0c691aa3b41f",
   "metadata": {},
   "outputs": [
    {
     "data": {
      "text/plain": [
       "{1, 4}"
      ]
     },
     "execution_count": 43,
     "metadata": {},
     "output_type": "execute_result"
    }
   ],
   "source": [
    "A.difference(B)"
   ]
  },
  {
   "cell_type": "code",
   "execution_count": 44,
   "id": "7ec29f4a-a605-4c37-8cae-f1bde969107f",
   "metadata": {},
   "outputs": [
    {
     "data": {
      "text/plain": [
       "{1, 3, 4, 8}"
      ]
     },
     "execution_count": 44,
     "metadata": {},
     "output_type": "execute_result"
    }
   ],
   "source": [
    "A.symmetric_difference(B)"
   ]
  },
  {
   "cell_type": "code",
   "execution_count": 45,
   "id": "812538df-847c-4214-8dec-d176fa9dd29e",
   "metadata": {},
   "outputs": [
    {
     "data": {
      "text/plain": [
       "False"
      ]
     },
     "execution_count": 45,
     "metadata": {},
     "output_type": "execute_result"
    }
   ],
   "source": [
    "A.isdisjoint(B)"
   ]
  },
  {
   "cell_type": "code",
   "execution_count": 46,
   "id": "5aeed8a3-1794-4c2d-9281-e11c08152539",
   "metadata": {},
   "outputs": [
    {
     "data": {
      "text/plain": [
       "False"
      ]
     },
     "execution_count": 46,
     "metadata": {},
     "output_type": "execute_result"
    }
   ],
   "source": [
    "A.issubset(B)"
   ]
  },
  {
   "cell_type": "code",
   "execution_count": null,
   "id": "329ad344-c86e-477d-b80d-14b7a16e6712",
   "metadata": {},
   "outputs": [],
   "source": []
  }
 ],
 "metadata": {
  "kernelspec": {
   "display_name": "Python 3 (ipykernel)",
   "language": "python",
   "name": "python3"
  },
  "language_info": {
   "codemirror_mode": {
    "name": "ipython",
    "version": 3
   },
   "file_extension": ".py",
   "mimetype": "text/x-python",
   "name": "python",
   "nbconvert_exporter": "python",
   "pygments_lexer": "ipython3",
   "version": "3.12.4"
  }
 },
 "nbformat": 4,
 "nbformat_minor": 5
}
