{
 "cells": [
  {
   "cell_type": "code",
   "execution_count": 1,
   "id": "7b80b9bf-1806-4705-8ff4-ebea87eecd72",
   "metadata": {},
   "outputs": [],
   "source": [
    "import numpy as np"
   ]
  },
  {
   "cell_type": "markdown",
   "id": "a7a032cb-8da8-4e46-91e1-68e715b123f0",
   "metadata": {},
   "source": [
    "## Сравнение массивов"
   ]
  },
  {
   "cell_type": "code",
   "execution_count": null,
   "id": "626d1304-b0c1-4416-a475-e091d8484b93",
   "metadata": {},
   "outputs": [],
   "source": [
    "np.random.seed(8)\n",
    "\n",
    "a = np.random.randint(1, 10, size = (4, 2))\n",
    "a[2,:] = [7, 2]\n",
    "\n",
    "np.random.seed(64)\n",
    "\n",
    "b = np.random.randint(1, 10, size = a.shape)\n",
    "\n",
    "a, b"
   ]
  },
  {
   "cell_type": "code",
   "execution_count": null,
   "id": "b6f773ac-7cca-45b3-9463-e529c4d2358f",
   "metadata": {},
   "outputs": [],
   "source": [
    "a.max(axis=1), a.sum(axis=0)"
   ]
  },
  {
   "cell_type": "code",
   "execution_count": null,
   "id": "3eb0a284-34d6-4aef-b134-d84a55aa70df",
   "metadata": {},
   "outputs": [],
   "source": [
    "np.fmax(a, b)"
   ]
  },
  {
   "cell_type": "code",
   "execution_count": null,
   "id": "ebd860c3-8620-4bd3-8387-79da87e155ff",
   "metadata": {},
   "outputs": [],
   "source": [
    "np.isclose(a, b, rtol = 1e-01, atol = 1e-01, equal_nan = False)"
   ]
  },
  {
   "cell_type": "code",
   "execution_count": null,
   "id": "cfe56a08-85de-4cd2-86aa-f4e3d69c75cd",
   "metadata": {},
   "outputs": [],
   "source": [
    "c = np.copy(b)\n",
    "c[2,1] = 23\n",
    "b, c"
   ]
  },
  {
   "cell_type": "code",
   "execution_count": null,
   "id": "f078ce3d-5567-44f9-8a3b-37df934cab40",
   "metadata": {},
   "outputs": [],
   "source": [
    "np.allclose(c, b, rtol = 1e-01, atol = 1e-01, equal_nan = False)"
   ]
  },
  {
   "cell_type": "code",
   "execution_count": null,
   "id": "0af068d1-a1b6-42a4-9748-00550fcf6da7",
   "metadata": {},
   "outputs": [],
   "source": [
    "bc_bool = np.isclose(b, c, rtol = 1e-01, atol = 1e-01, equal_nan = False)\n",
    "bc_bool"
   ]
  },
  {
   "cell_type": "code",
   "execution_count": null,
   "id": "880ba460-5bfe-4eb7-a968-8a4e069980eb",
   "metadata": {},
   "outputs": [],
   "source": [
    "bc_bool.any(), bc_bool.all()"
   ]
  },
  {
   "cell_type": "code",
   "execution_count": null,
   "id": "00748801-7229-4b61-9119-6a74d7b279f2",
   "metadata": {},
   "outputs": [],
   "source": [
    "bc_bool[2, 0] = False\n",
    "bc_bool.any(axis=1)"
   ]
  },
  {
   "cell_type": "code",
   "execution_count": null,
   "id": "ec6903a9-11f8-48c8-968a-2eebbb435e40",
   "metadata": {},
   "outputs": [],
   "source": [
    "bc_bool.all(axis=1)"
   ]
  },
  {
   "cell_type": "code",
   "execution_count": 3,
   "id": "afc9e820-f6dc-4c06-af38-c53d345c789b",
   "metadata": {},
   "outputs": [
    {
     "data": {
      "text/plain": [
       "array([[-7,  7, -1],\n",
       "       [-5, -2,  9],\n",
       "       [-2,  6,  3],\n",
       "       [ 7,  9,  0]])"
      ]
     },
     "execution_count": 3,
     "metadata": {},
     "output_type": "execute_result"
    }
   ],
   "source": [
    "np.random.seed(8)\n",
    "\n",
    "a1 = np.random.randint(-10, 10, size = (4, 3))\n",
    "a1"
   ]
  },
  {
   "cell_type": "code",
   "execution_count": 20,
   "id": "a57f9be3-3c8e-4739-a82d-73cec76da3a4",
   "metadata": {},
   "outputs": [
    {
     "data": {
      "text/plain": [
       "array([[6, 3],\n",
       "       [9, 0]])"
      ]
     },
     "execution_count": 20,
     "metadata": {},
     "output_type": "execute_result"
    }
   ],
   "source": [
    "a1[:, (a1 > 0).sum(axis=0) > (a1 < 0).sum(axis=0)][(a2 > 0).sum(axis=1) > (a2 < 0).sum(axis=1), :]"
   ]
  },
  {
   "cell_type": "code",
   "execution_count": 19,
   "id": "4b92141f-1269-4270-b513-86c7b217311e",
   "metadata": {},
   "outputs": [
    {
     "data": {
      "text/plain": [
       "array([[6, 3],\n",
       "       [9, 0]])"
      ]
     },
     "execution_count": 19,
     "metadata": {},
     "output_type": "execute_result"
    }
   ],
   "source": [
    "a2"
   ]
  },
  {
   "cell_type": "code",
   "execution_count": null,
   "id": "72f637c0-6a18-4bdc-acd9-0c1813fa24cd",
   "metadata": {},
   "outputs": [],
   "source": []
  }
 ],
 "metadata": {
  "kernelspec": {
   "display_name": "Python 3 (ipykernel)",
   "language": "python",
   "name": "python3"
  },
  "language_info": {
   "codemirror_mode": {
    "name": "ipython",
    "version": 3
   },
   "file_extension": ".py",
   "mimetype": "text/x-python",
   "name": "python",
   "nbconvert_exporter": "python",
   "pygments_lexer": "ipython3",
   "version": "3.12.4"
  }
 },
 "nbformat": 4,
 "nbformat_minor": 5
}
