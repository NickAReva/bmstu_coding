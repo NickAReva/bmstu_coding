{
 "cells": [
  {
   "cell_type": "code",
   "execution_count": 2,
   "id": "7b80b9bf-1806-4705-8ff4-ebea87eecd72",
   "metadata": {},
   "outputs": [],
   "source": [
    "import numpy as np"
   ]
  },
  {
   "cell_type": "markdown",
   "id": "a7a032cb-8da8-4e46-91e1-68e715b123f0",
   "metadata": {},
   "source": [
    "## Сравнение массивов"
   ]
  },
  {
   "cell_type": "code",
   "execution_count": 13,
   "id": "626d1304-b0c1-4416-a475-e091d8484b93",
   "metadata": {},
   "outputs": [
    {
     "data": {
      "text/plain": [
       "(array([[4, 5],\n",
       "        [2, 6],\n",
       "        [7, 2],\n",
       "        [9, 1]]),\n",
       " array([[5, 7],\n",
       "        [8, 7],\n",
       "        [7, 2],\n",
       "        [5, 4]]))"
      ]
     },
     "execution_count": 13,
     "metadata": {},
     "output_type": "execute_result"
    }
   ],
   "source": [
    "np.random.seed(8)\n",
    "\n",
    "a = np.random.randint(1, 10, size = (4, 2))\n",
    "a[2,:] = [7, 2]\n",
    "\n",
    "np.random.seed(64)\n",
    "\n",
    "b = np.random.randint(1, 10, size = a.shape)\n",
    "\n",
    "a, b"
   ]
  },
  {
   "cell_type": "code",
   "execution_count": 14,
   "id": "ebd860c3-8620-4bd3-8387-79da87e155ff",
   "metadata": {},
   "outputs": [
    {
     "data": {
      "text/plain": [
       "array([[False, False],\n",
       "       [False, False],\n",
       "       [ True,  True],\n",
       "       [False, False]])"
      ]
     },
     "execution_count": 14,
     "metadata": {},
     "output_type": "execute_result"
    }
   ],
   "source": [
    "np.isclose(a, b, rtol = 1e-01, atol = 1e-01, equal_nan = False)"
   ]
  },
  {
   "cell_type": "code",
   "execution_count": 20,
   "id": "cfe56a08-85de-4cd2-86aa-f4e3d69c75cd",
   "metadata": {},
   "outputs": [
    {
     "data": {
      "text/plain": [
       "(array([[5, 7],\n",
       "        [8, 7],\n",
       "        [7, 2],\n",
       "        [5, 4]]),\n",
       " array([[ 5,  7],\n",
       "        [ 8,  7],\n",
       "        [ 7, 23],\n",
       "        [ 5,  4]]))"
      ]
     },
     "execution_count": 20,
     "metadata": {},
     "output_type": "execute_result"
    }
   ],
   "source": [
    "c = np.copy(b)\n",
    "c[2,1] = 23\n",
    "b, c"
   ]
  },
  {
   "cell_type": "code",
   "execution_count": 21,
   "id": "f078ce3d-5567-44f9-8a3b-37df934cab40",
   "metadata": {},
   "outputs": [
    {
     "data": {
      "text/plain": [
       "False"
      ]
     },
     "execution_count": 21,
     "metadata": {},
     "output_type": "execute_result"
    }
   ],
   "source": [
    "np.allclose(c, b, rtol = 1e-01, atol = 1e-01, equal_nan = False)"
   ]
  },
  {
   "cell_type": "code",
   "execution_count": 23,
   "id": "0af068d1-a1b6-42a4-9748-00550fcf6da7",
   "metadata": {},
   "outputs": [
    {
     "data": {
      "text/plain": [
       "array([[ True,  True],\n",
       "       [ True,  True],\n",
       "       [ True, False],\n",
       "       [ True,  True]])"
      ]
     },
     "execution_count": 23,
     "metadata": {},
     "output_type": "execute_result"
    }
   ],
   "source": [
    "bc_bool = np.isclose(b, c, rtol = 1e-01, atol = 1e-01, equal_nan = False)\n",
    "bc_bool"
   ]
  },
  {
   "cell_type": "code",
   "execution_count": 31,
   "id": "880ba460-5bfe-4eb7-a968-8a4e069980eb",
   "metadata": {},
   "outputs": [
    {
     "data": {
      "text/plain": [
       "(True, False)"
      ]
     },
     "execution_count": 31,
     "metadata": {},
     "output_type": "execute_result"
    }
   ],
   "source": [
    "bc_bool.any(), bc_bool.all()"
   ]
  },
  {
   "cell_type": "code",
   "execution_count": 34,
   "id": "00748801-7229-4b61-9119-6a74d7b279f2",
   "metadata": {},
   "outputs": [
    {
     "data": {
      "text/plain": [
       "array([ True,  True, False,  True])"
      ]
     },
     "execution_count": 34,
     "metadata": {},
     "output_type": "execute_result"
    }
   ],
   "source": [
    "bc_bool[2, 0] = False\n",
    "bc_bool.any(axis=1)"
   ]
  },
  {
   "cell_type": "code",
   "execution_count": 36,
   "id": "ec6903a9-11f8-48c8-968a-2eebbb435e40",
   "metadata": {},
   "outputs": [
    {
     "data": {
      "text/plain": [
       "array([ True,  True, False,  True])"
      ]
     },
     "execution_count": 36,
     "metadata": {},
     "output_type": "execute_result"
    }
   ],
   "source": [
    "bc_bool.all(axis=1)"
   ]
  },
  {
   "cell_type": "code",
   "execution_count": null,
   "id": "6fddaed6-c6d1-457c-8b65-39565d5b5a21",
   "metadata": {},
   "outputs": [],
   "source": []
  }
 ],
 "metadata": {
  "kernelspec": {
   "display_name": "Python 3 (ipykernel)",
   "language": "python",
   "name": "python3"
  },
  "language_info": {
   "codemirror_mode": {
    "name": "ipython",
    "version": 3
   },
   "file_extension": ".py",
   "mimetype": "text/x-python",
   "name": "python",
   "nbconvert_exporter": "python",
   "pygments_lexer": "ipython3",
   "version": "3.12.4"
  }
 },
 "nbformat": 4,
 "nbformat_minor": 5
}
