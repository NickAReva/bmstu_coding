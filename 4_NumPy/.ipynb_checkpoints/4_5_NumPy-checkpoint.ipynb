{
 "cells": [
  {
   "cell_type": "code",
   "execution_count": 1,
   "id": "fb78ce17-dca8-4f07-adbb-491454c268c9",
   "metadata": {},
   "outputs": [],
   "source": [
    "import numpy as np"
   ]
  },
  {
   "cell_type": "code",
   "execution_count": null,
   "id": "e6767b68-0413-45fb-8853-4c57cf6fb021",
   "metadata": {},
   "outputs": [],
   "source": [
    "A = np.random.randint(0, 5, size=(3, 2))\n",
    "B = np.random.randint(5, 10, size=(2, 3))\n",
    "A, B"
   ]
  },
  {
   "cell_type": "markdown",
   "id": "d5be0182-7175-4d41-b1bb-e077c49138df",
   "metadata": {},
   "source": [
    "## Произведение матриц"
   ]
  },
  {
   "cell_type": "code",
   "execution_count": null,
   "id": "ff0e0935-4d16-429b-923a-a84c4ac3a0c6",
   "metadata": {},
   "outputs": [],
   "source": [
    "np.matmul(A, B)"
   ]
  },
  {
   "cell_type": "code",
   "execution_count": null,
   "id": "f810f7e1-d7de-46db-ba73-296388c4043c",
   "metadata": {},
   "outputs": [],
   "source": [
    "A@B # краткая форма"
   ]
  },
  {
   "cell_type": "markdown",
   "id": "3df7c10c-cb60-4ff6-9417-1e94b95d6dc5",
   "metadata": {},
   "source": [
    "## Скалярное произведение векторов и матриц"
   ]
  },
  {
   "cell_type": "code",
   "execution_count": null,
   "id": "98c071d3-624c-4506-9dbe-bc1f7453bc35",
   "metadata": {},
   "outputs": [],
   "source": [
    "av = np.random.randint(0, 5, size=(4,))\n",
    "bv = np.random.randint(5, 10, size=(4,))\n",
    "av, bv"
   ]
  },
  {
   "cell_type": "code",
   "execution_count": null,
   "id": "e2d3e4d1-8b12-4760-88b8-83eddf4e237f",
   "metadata": {},
   "outputs": [],
   "source": [
    "np.dot(av, bv), np.dot(A, B)"
   ]
  },
  {
   "cell_type": "code",
   "execution_count": null,
   "id": "bedf00de-6857-478d-80d0-17b4441a562d",
   "metadata": {},
   "outputs": [],
   "source": [
    "C = np.asmatrix(A) # создали матрицу - представление А\n",
    "D = np.matrix(B) # новая матрица\n",
    "A[0][0] = 13\n",
    "B[0][0] = 15\n",
    "C, D"
   ]
  },
  {
   "cell_type": "code",
   "execution_count": null,
   "id": "9a12cf81-c6ac-4d11-8dfe-a962209a9512",
   "metadata": {},
   "outputs": [],
   "source": [
    "F = C * D\n",
    "F"
   ]
  },
  {
   "cell_type": "code",
   "execution_count": null,
   "id": "c77e7f1d-f673-4343-8d7a-523a62b8217c",
   "metadata": {},
   "outputs": [],
   "source": [
    "A, A**2"
   ]
  },
  {
   "cell_type": "code",
   "execution_count": null,
   "id": "dee4d35c-4607-4eed-a9c6-bd9f6e42e61b",
   "metadata": {},
   "outputs": [],
   "source": [
    "F[0][0] = 5\n",
    "F, np.linalg.det(F)"
   ]
  },
  {
   "cell_type": "code",
   "execution_count": null,
   "id": "9f4aaffd-9c8f-4b09-826e-5d5a0673e61f",
   "metadata": {},
   "outputs": [],
   "source": [
    "F1 = np.linalg.inv(F)\n",
    "F1"
   ]
  },
  {
   "cell_type": "code",
   "execution_count": null,
   "id": "1508d790-0b14-441f-bba0-7a3ba78e4875",
   "metadata": {},
   "outputs": [],
   "source": [
    "F @ F1, F1@F"
   ]
  },
  {
   "cell_type": "markdown",
   "id": "fb250d43-ce87-4729-8461-2592bf70d8b5",
   "metadata": {},
   "source": [
    "## Решение уравнений"
   ]
  },
  {
   "cell_type": "code",
   "execution_count": 2,
   "id": "16c5a10e-1781-4977-a32c-c191d0a675e0",
   "metadata": {},
   "outputs": [
    {
     "data": {
      "text/plain": [
       "(array([[7, 6, 4, 1],\n",
       "        [6, 1, 7, 4],\n",
       "        [2, 4, 5, 8],\n",
       "        [5, 4, 1, 4]]),\n",
       " array([ 1., -2.,  1., -3.], dtype=float32))"
      ]
     },
     "execution_count": 2,
     "metadata": {},
     "output_type": "execute_result"
    }
   ],
   "source": [
    "A = np.random.randint(1, 9, size=(4, 4))\n",
    "b = np.array([1, -2, 1, -3], dtype = np.float32)\n",
    "A, b"
   ]
  },
  {
   "cell_type": "code",
   "execution_count": 3,
   "id": "4bd3ed13-3361-4ddd-808e-d36857f0ba4f",
   "metadata": {},
   "outputs": [
    {
     "data": {
      "text/plain": [
       "array([-1.04109589,  0.93972603,  0.81004566, -0.59086758])"
      ]
     },
     "execution_count": 3,
     "metadata": {},
     "output_type": "execute_result"
    }
   ],
   "source": [
    "x = np.linalg.solve(A, b)\n",
    "x"
   ]
  },
  {
   "cell_type": "code",
   "execution_count": 4,
   "id": "10a21870-8728-4740-9087-88ad12437f08",
   "metadata": {},
   "outputs": [
    {
     "data": {
      "text/plain": [
       "array([-8.88178420e-16, -8.88178420e-16, -4.44089210e-16, -2.22044605e-15])"
      ]
     },
     "execution_count": 4,
     "metadata": {},
     "output_type": "execute_result"
    }
   ],
   "source": [
    "A @ x - b"
   ]
  },
  {
   "cell_type": "code",
   "execution_count": 5,
   "id": "5462d775-cbee-4418-b016-d0b5110e6301",
   "metadata": {},
   "outputs": [
    {
     "data": {
      "text/plain": [
       "(array([17.2971333 +0.j        , -3.81787353+0.j        ,\n",
       "         1.76037012+3.67183771j,  1.76037012-3.67183771j]),\n",
       " array([[ 0.54489741+0.j        ,  0.41570806+0.j        ,\n",
       "         -0.48097695-0.21915211j, -0.48097695+0.21915211j],\n",
       "        [ 0.52209632+0.j        , -0.88077794+0.j        ,\n",
       "          0.15859138-0.17642741j,  0.15859138+0.17642741j],\n",
       "        [ 0.51932496+0.j        ,  0.15568146+0.j        ,\n",
       "          0.64876365+0.j        ,  0.64876365-0.j        ],\n",
       "        [ 0.40100352+0.j        ,  0.16486452+0.j        ,\n",
       "         -0.22177072+0.44077108j, -0.22177072-0.44077108j]]))"
      ]
     },
     "execution_count": 5,
     "metadata": {},
     "output_type": "execute_result"
    }
   ],
   "source": [
    "lam, v = np.linalg.eig(A)\n",
    "lam, v"
   ]
  },
  {
   "cell_type": "markdown",
   "id": "2315f6bc-e1e0-4afc-adc5-11ec2b6e2e80",
   "metadata": {},
   "source": [
    "## Генерация случайных чиселок"
   ]
  },
  {
   "cell_type": "code",
   "execution_count": 9,
   "id": "e463760e-369f-48bb-be02-32d1a0a4bbf0",
   "metadata": {},
   "outputs": [
    {
     "data": {
      "text/plain": [
       "array([0.53019434, 0.20421487, 0.30605222, 0.71085519, 0.79752269,\n",
       "       0.83653125, 0.49388648, 0.67944753, 0.86964193, 0.54905863])"
      ]
     },
     "execution_count": 9,
     "metadata": {},
     "output_type": "execute_result"
    }
   ],
   "source": [
    "np.random.rand(10)"
   ]
  },
  {
   "cell_type": "code",
   "execution_count": 10,
   "id": "de91e043-e1af-46e4-97c0-9c89363e278b",
   "metadata": {},
   "outputs": [
    {
     "data": {
      "text/plain": [
       "array([3, 3, 7, 3, 9, 1, 5, 1, 7, 3])"
      ]
     },
     "execution_count": 10,
     "metadata": {},
     "output_type": "execute_result"
    }
   ],
   "source": [
    "np.random.randint(0, 10, 10)"
   ]
  },
  {
   "cell_type": "code",
   "execution_count": 11,
   "id": "46f0e952-fd41-45f6-9d08-ca52d7750137",
   "metadata": {},
   "outputs": [
    {
     "data": {
      "text/plain": [
       "array([1, 2, 7, 8, 6, 5, 9, 3, 4, 0])"
      ]
     },
     "execution_count": 11,
     "metadata": {},
     "output_type": "execute_result"
    }
   ],
   "source": [
    "np.random.permutation(10)"
   ]
  },
  {
   "cell_type": "code",
   "execution_count": null,
   "id": "b146a104-61e7-4884-afc3-456baaf5ea3d",
   "metadata": {},
   "outputs": [],
   "source": []
  }
 ],
 "metadata": {
  "kernelspec": {
   "display_name": "Python 3 (ipykernel)",
   "language": "python",
   "name": "python3"
  },
  "language_info": {
   "codemirror_mode": {
    "name": "ipython",
    "version": 3
   },
   "file_extension": ".py",
   "mimetype": "text/x-python",
   "name": "python",
   "nbconvert_exporter": "python",
   "pygments_lexer": "ipython3",
   "version": "3.12.4"
  }
 },
 "nbformat": 4,
 "nbformat_minor": 5
}
