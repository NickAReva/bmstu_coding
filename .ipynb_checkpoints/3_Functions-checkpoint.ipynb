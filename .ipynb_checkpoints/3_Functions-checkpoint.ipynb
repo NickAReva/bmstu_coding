{
 "cells": [
  {
   "cell_type": "markdown",
   "id": "c73bf411-1dc5-4d50-bc0e-b09548fcee31",
   "metadata": {
    "jp-MarkdownHeadingCollapsed": true
   },
   "source": [
    "### Hypot"
   ]
  },
  {
   "cell_type": "code",
   "execution_count": 1,
   "id": "1c5d4c29-80f9-4f60-9ea7-8edbc9304ca8",
   "metadata": {},
   "outputs": [
    {
     "data": {
      "text/plain": [
       "5.0"
      ]
     },
     "execution_count": 1,
     "metadata": {},
     "output_type": "execute_result"
    }
   ],
   "source": [
    "def hypot(x, y):\n",
    "    return (x**2 + y**2)**0.5\n",
    "\n",
    "hypot(3,4)"
   ]
  },
  {
   "cell_type": "markdown",
   "id": "c7153114-3c66-49e5-be58-b6b6f5f0efa5",
   "metadata": {
    "jp-MarkdownHeadingCollapsed": true
   },
   "source": [
    "### Вложенная функция"
   ]
  },
  {
   "cell_type": "code",
   "execution_count": 4,
   "id": "05b22ed2-7b6b-43bd-a5c1-c4657c13aad9",
   "metadata": {},
   "outputs": [
    {
     "name": "stdout",
     "output_type": "stream",
     "text": [
      "<function f1 at 0x000001F9E1A40AE0>\n",
      "f1\n",
      "<function f1.<locals>.f2 at 0x000001F9E1A414E0>\n",
      "f1\n",
      "Hello f2!\n",
      "None\n"
     ]
    }
   ],
   "source": [
    "def f1():\n",
    "    print('f1')\n",
    "    def f2():\n",
    "        print('Hello f2!')\n",
    "    return f2\n",
    "\n",
    "print (f1) # выводит тип объекта по сути\n",
    "print(f1()) # выводит выполнение внутренних команд и тип вложенной функции (матрешка)\n",
    "print(f1()()) # выводит выполнение внутренних команд и вложенной функции (матрешка) и результат None"
   ]
  },
  {
   "cell_type": "markdown",
   "id": "1dc7da11-d90b-48bc-b818-a2ee41d68651",
   "metadata": {
    "jp-MarkdownHeadingCollapsed": true
   },
   "source": [
    "### Обязательные и необязательные параметры"
   ]
  },
  {
   "cell_type": "code",
   "execution_count": 7,
   "id": "8481d9c8-f722-4c3d-917a-b1cd8e294c19",
   "metadata": {},
   "outputs": [
    {
     "name": "stdout",
     "output_type": "stream",
     "text": [
      "my thing\n",
      "5\n",
      "5\n"
     ]
    }
   ],
   "source": [
    "def example(first, second = 3, third = 5):\n",
    "    print(first)\n",
    "    print(second)\n",
    "    print(third)\n",
    "\n",
    "example('my thing', second = 5)"
   ]
  },
  {
   "cell_type": "markdown",
   "id": "291b05f5-301e-4dcf-a03e-980bcab8bb78",
   "metadata": {
    "jp-MarkdownHeadingCollapsed": true
   },
   "source": [
    "### ПЕредача аргументов параметров неизменяемых типов"
   ]
  },
  {
   "cell_type": "code",
   "execution_count": 8,
   "id": "07dff18d-33a0-4fba-b1d2-5e44e703261b",
   "metadata": {},
   "outputs": [
    {
     "name": "stdout",
     "output_type": "stream",
     "text": [
      "Outside\n",
      "3\n",
      "Inside\n",
      "4\n",
      "=========\n",
      "Outside\n",
      "3\n"
     ]
    }
   ],
   "source": [
    "def func(arg, arg2):\n",
    "    arg = 'Inside'\n",
    "    arg2 = 4\n",
    "    print(arg)\n",
    "    print(arg2)\n",
    "    print(\"=========\")\n",
    "\n",
    "var1 = 'Outside'\n",
    "var2 = 3\n",
    "print(var1)\n",
    "print(var2)\n",
    "func(var1, var2)\n",
    "print(var1)\n",
    "print(var2)\n"
   ]
  },
  {
   "cell_type": "code",
   "execution_count": 13,
   "id": "ef57e1f6-b9fa-4324-b853-c40201762fb5",
   "metadata": {},
   "outputs": [
    {
     "name": "stdout",
     "output_type": "stream",
     "text": [
      "Зарплата за 1-й месяц - 25000\n",
      "Зарплата за 2-й месяц - 30000\n",
      "Зарплата за 3-й месяц - 40000\n",
      "Зарплата за 4-й месяц - 42000\n",
      "<enumerate object at 0x000001E59D0144A0>\n"
     ]
    }
   ],
   "source": [
    "salaries = (40000, 30000, 25000, 42000)\n",
    "\n",
    "def f(salaries):\n",
    "    for (i, salary) in enumerate(sorted(salaries)):\n",
    "        print(f\"Зарплата за {i+1}-й месяц - {salary}\")\n",
    "\n",
    "f(salaries)\n",
    "print(enumerate(salaries))"
   ]
  },
  {
   "cell_type": "markdown",
   "id": "d9f17e9d-6299-46b5-bc42-11f5e7cea6ce",
   "metadata": {
    "jp-MarkdownHeadingCollapsed": true
   },
   "source": [
    "### Передача аргументов параметров изменяемых типов"
   ]
  },
  {
   "cell_type": "code",
   "execution_count": 14,
   "id": "4e51df5b-a21b-4da4-a19d-8deecbb39561",
   "metadata": {},
   "outputs": [
    {
     "name": "stdout",
     "output_type": "stream",
     "text": [
      "List outside:  [10, 20, 30]\n",
      "Dict outside:  {1: 'a', 2: 'b'}\n",
      "====================\n",
      "List inside:  [10, 20, 30, [1, 2, 3, 4]]\n",
      "Dict inside:  {1: 'ccc', 2: 'b'}\n",
      "====================\n",
      "List outside:  [10, 20, 30, [1, 2, 3, 4]]\n",
      "Dict outside:  {1: 'ccc', 2: 'b'}\n"
     ]
    }
   ],
   "source": [
    "def changeme(mlist, mdict):\n",
    "    mlist.append([1, 2, 3, 4])\n",
    "    mdict[1] = \"ccc\"\n",
    "    print(\"List inside: \", mlist)\n",
    "    print(\"Dict inside: \", mdict)\n",
    "    print(\"====================\")\n",
    "\n",
    "l1 = [10, 20, 30]\n",
    "d1 = {1:\"a\", 2:\"b\"}\n",
    "print(\"List outside: \", l1)\n",
    "print(\"Dict outside: \", d1)\n",
    "print(\"====================\")\n",
    "changeme(l1, d1)\n",
    "print(\"List outside: \", l1)\n",
    "print(\"Dict outside: \", d1)\n"
   ]
  },
  {
   "cell_type": "code",
   "execution_count": 15,
   "id": "0470f1f0-71a2-4297-a57f-877e6828ee45",
   "metadata": {},
   "outputs": [
    {
     "name": "stdout",
     "output_type": "stream",
     "text": [
      "Before [40000, 30000, 25000, 42000]\n",
      "Зарплата за 1-й месяц - 25000\n",
      "Зарплата за 2-й месяц - 30000\n",
      "Зарплата за 3-й месяц - 40000\n",
      "Зарплата за 4-й месяц - 42000\n",
      "After [25000, 30000, 40000, 42000]\n"
     ]
    }
   ],
   "source": [
    "salaries = [40000, 30000, 25000, 42000]\n",
    "\n",
    "def f(salaries):\n",
    "    salaries.sort()\n",
    "    for (i, salary) in enumerate(salaries):\n",
    "        print(f\"Зарплата за {i+1}-й месяц - {salary}\")\n",
    "\n",
    "print(\"Before\", salaries)\n",
    "f(salaries)\n",
    "print(\"After\", salaries)"
   ]
  },
  {
   "cell_type": "markdown",
   "id": "f3171c03-44a9-418a-96fe-b57a045f172a",
   "metadata": {
    "jp-MarkdownHeadingCollapsed": true
   },
   "source": [
    "## Позиционные и именованные аргументы"
   ]
  },
  {
   "cell_type": "markdown",
   "id": "b8feb647-2508-4872-8116-95be26be8ad5",
   "metadata": {},
   "source": [
    "### Передача аргументов по позиции"
   ]
  },
  {
   "cell_type": "code",
   "execution_count": 10,
   "id": "0a049980-9ab7-445b-90fc-ba6cfadca07b",
   "metadata": {},
   "outputs": [
    {
     "name": "stdout",
     "output_type": "stream",
     "text": [
      "First name: John\n",
      "Last name: Fikling\n",
      "Age: 53/n\n"
     ]
    }
   ],
   "source": [
    "def describe_person(first_name, last_name, age):\n",
    "    print(\"First name: %s\" % first_name.title())\n",
    "    print(\"Last name: %s\" % last_name.title())\n",
    "    print(\"Age: %d/n\" % age)\n",
    "\n",
    "describe_person(\"john\", \"fikling\", age = 53)"
   ]
  },
  {
   "cell_type": "markdown",
   "id": "09d93ceb-9084-4fe2-95bd-1e39f357dc63",
   "metadata": {
    "jp-MarkdownHeadingCollapsed": true
   },
   "source": [
    "### Совместная передача позиционных и именнованных аргументов"
   ]
  },
  {
   "cell_type": "code",
   "execution_count": 15,
   "id": "95ca0a25-716f-44b8-8a1f-ffa838907c45",
   "metadata": {},
   "outputs": [
    {
     "name": "stdout",
     "output_type": "stream",
     "text": [
      "First name: John\n",
      "Last name: Romero\n",
      "Age: 78\n",
      "\n"
     ]
    }
   ],
   "source": [
    "def describe_person_m(first_name, last_name = \"romero\", age = 78):\n",
    "    print(\"First name: %s\" % first_name.title())\n",
    "    print(\"Last name: %s\" % last_name.title())\n",
    "    print(\"Age: %d\\n\" % age)\n",
    "\n",
    "describe_person_m(\"john\")"
   ]
  },
  {
   "cell_type": "markdown",
   "id": "bcc1146b-6ff8-4802-afb0-958fd524a00b",
   "metadata": {
    "jp-MarkdownHeadingCollapsed": true
   },
   "source": [
    "## Упаковка и распаковка элементов"
   ]
  },
  {
   "cell_type": "code",
   "execution_count": 26,
   "id": "a9543791-2137-4889-8fa0-960c6d258d9a",
   "metadata": {},
   "outputs": [
    {
     "name": "stdout",
     "output_type": "stream",
     "text": [
      "МУзыка\n",
      "author :  Sar\n",
      "birthday :  06/06/2020\n",
      "You choose: \n",
      " -  a\n",
      " -  b\n",
      " -  c\n"
     ]
    }
   ],
   "source": [
    "def print_order(*order, **info):\n",
    "    print(\"МУзыка\")\n",
    "    for key, value in sorted(info.items()):\n",
    "        print(key, \": \", value)\n",
    "\n",
    "    print(\"You choose: \")\n",
    "    for item in order:\n",
    "        print(\" - \", item)\n",
    "\n",
    "songs = (\"a\", \"b\", \"c\")\n",
    "authors = {\"author\": \"Sar\", \"birthday\": \"06/06/2020\"}\n",
    "\n",
    "print_order(\"a\", \"b\", \"c\", author = \"Sar\", birthday = \"06/06/2020\")\n",
    "        "
   ]
  },
  {
   "cell_type": "markdown",
   "id": "ff8c7988-f449-41cc-87ed-10dfe37fb743",
   "metadata": {
    "jp-MarkdownHeadingCollapsed": true
   },
   "source": [
    "## Decorators"
   ]
  },
  {
   "cell_type": "code",
   "execution_count": 10,
   "id": "669af05f-f00f-4311-a489-fa52f6c3e5a7",
   "metadata": {},
   "outputs": [
    {
     "name": "stdout",
     "output_type": "stream",
     "text": [
      "Hello world!\n",
      "Bonjuor le monde!\n"
     ]
    }
   ],
   "source": [
    "def decorator(func):\n",
    "    def func_new():\n",
    "        return \"Bonjuor le monde!\"\n",
    "    return func_new\n",
    "    \n",
    "#@decorator\n",
    "def greetings():\n",
    "    return \"Hello world!\"\n",
    "\n",
    "print(greetings())\n",
    "greetings2 = decorator(greetings())\n",
    "print(greetings2())"
   ]
  },
  {
   "cell_type": "code",
   "execution_count": 17,
   "id": "7cb00cdd-a259-4d04-a4c7-cf138cf47a04",
   "metadata": {},
   "outputs": [
    {
     "data": {
      "text/plain": [
       "39"
      ]
     },
     "execution_count": 17,
     "metadata": {},
     "output_type": "execute_result"
    }
   ],
   "source": [
    "def logger(func):\n",
    "    def wrapper(a):\n",
    "        res = func(a)\n",
    "        with open('decorator.log', 'a') as f_output:\n",
    "            print(f\"num = {len(a)}, result = {res}\", file = f_output)\n",
    "        return res\n",
    "    return wrapper\n",
    "\n",
    "@logger\n",
    "def summator(a):\n",
    "    return sum(a)\n",
    "\n",
    "summator([3, 9, 27])"
   ]
  },
  {
   "cell_type": "code",
   "execution_count": 20,
   "id": "0fdbba03-2b01-4a4f-a470-aae2d1b05d90",
   "metadata": {},
   "outputs": [
    {
     "data": {
      "text/plain": [
       "[1, 2, 0, 1, 2]"
      ]
     },
     "execution_count": 20,
     "metadata": {},
     "output_type": "execute_result"
    }
   ],
   "source": [
    "def logger(func):\n",
    "    def wrapper(*args, **kvargs):\n",
    "        r = func(*args, **kvargs)\n",
    "        with open('decorator.log', 'a') as f_output:\n",
    "            f_output.write('func = \"{}\"; result = {}\\n'.format(func.__name__, r))\n",
    "        return r\n",
    "    return wrapper\n",
    "\n",
    "@logger\n",
    "def summator(a):\n",
    "    return sum(a)\n",
    "\n",
    "@logger\n",
    "def mod_taker(a, mod):\n",
    "    return list(map(lambda x: x % mod, a))\n",
    "\n",
    "summator([3, 9, 27])\n",
    "mod_taker([1, 2, 3, 4, 5], 3)"
   ]
  },
  {
   "cell_type": "markdown",
   "id": "257ce03e-5125-4bc5-a670-053c83aa4424",
   "metadata": {
    "jp-MarkdownHeadingCollapsed": true
   },
   "source": [
    "## Iterator"
   ]
  },
  {
   "cell_type": "code",
   "execution_count": 2,
   "id": "2b43fcd2-26bc-4a4c-a109-987657796fc1",
   "metadata": {},
   "outputs": [
    {
     "name": "stdout",
     "output_type": "stream",
     "text": [
      "<class 'list'>\n",
      "foo\n",
      "far\n",
      "baz\n",
      "quality\n"
     ]
    }
   ],
   "source": [
    "a = ['foo', 'far', 'baz', 'quality']\n",
    "print(type(a))\n",
    "\n",
    "a_iter = iter(a)\n",
    "print(next(a_iter))\n",
    "print(next(a_iter))\n",
    "print(next(a_iter))\n",
    "print(next(a_iter))"
   ]
  },
  {
   "cell_type": "code",
   "execution_count": 7,
   "id": "27dcc43f-6876-47fd-be85-1d1d4dc63080",
   "metadata": {},
   "outputs": [
    {
     "name": "stdout",
     "output_type": "stream",
     "text": [
      "<class 'tuple'>\n",
      "1\n",
      "2\n",
      "3\n",
      "5\n"
     ]
    }
   ],
   "source": [
    "a = (1, 2, 3, 5)\n",
    "print(type(a))\n",
    "\n",
    "a_iter = iter(a)\n",
    "print(next(a_iter))\n",
    "print(next(a_iter))\n",
    "print(next(a_iter))\n",
    "print(next(a_iter))"
   ]
  },
  {
   "cell_type": "code",
   "execution_count": 6,
   "id": "f2498a4a-3ab2-4162-bd3b-c30599865be1",
   "metadata": {},
   "outputs": [
    {
     "name": "stdout",
     "output_type": "stream",
     "text": [
      "0 \t 1\n",
      "1 \t 2\n",
      "2 \t 3\n",
      "3 \t 5\n"
     ]
    }
   ],
   "source": [
    "set_of_numbers = {1, 2, 3, 5}\n",
    "for i, n in enumerate(set_of_numbers):\n",
    "    print(i, \"\\t\", n)"
   ]
  },
  {
   "cell_type": "markdown",
   "id": "b0e9565b-c473-47a4-81a1-9b0afcf9bbb6",
   "metadata": {},
   "source": [
    "## Включения списков"
   ]
  },
  {
   "cell_type": "code",
   "execution_count": 14,
   "id": "5c3190a9-958d-4fad-b2ca-3c222ece3f3d",
   "metadata": {},
   "outputs": [
    {
     "name": "stdout",
     "output_type": "stream",
     "text": [
      "<class 'list'>\n",
      "[0, 1, 2, 3, 4, 5, 6, 7, 8, 9, 10, 11, 12, 13, 14, 15, 16, 17, 18, 19, 20, 21, 22, 23, 24, 25, 26, 27, 28, 29, 30, 31, 32, 33, 34, 35, 36, 37, 38, 39, 40, 41, 42, 43, 44, 45, 46, 47, 48, 49, 50, 51, 52, 53, 54, 55, 56, 57, 58, 59, 60, 61, 62, 63, 64, 65, 66, 67, 68, 69, 70, 71, 72, 73, 74, 75, 76, 77, 78, 79, 80, 81, 82, 83, 84, 85, 86, 87, 88, 89, 90, 91, 92, 93, 94, 95, 96, 97, 98, 99]\n"
     ]
    }
   ],
   "source": [
    "a = [i for i in range(100)]\n",
    "print(type(a))\n",
    "print(a)"
   ]
  },
  {
   "cell_type": "code",
   "execution_count": 29,
   "id": "4c1ef6f0-eab1-4cb3-826a-be059b70dd00",
   "metadata": {},
   "outputs": [],
   "source": [
    "b = [i for i in a if i % 7 == 1 and i % 3 == 0]"
   ]
  },
  {
   "cell_type": "code",
   "execution_count": 30,
   "id": "a2d4874a-1ab7-4fdc-a84e-4d0504442e98",
   "metadata": {},
   "outputs": [
    {
     "data": {
      "text/plain": [
       "[15, 36, 57, 78, 99]"
      ]
     },
     "execution_count": 30,
     "metadata": {},
     "output_type": "execute_result"
    }
   ],
   "source": [
    "b"
   ]
  },
  {
   "cell_type": "code",
   "execution_count": 35,
   "id": "f87361ac-00b0-4be1-a6ec-5934863abfdb",
   "metadata": {},
   "outputs": [
    {
     "data": {
      "text/plain": [
       "{'б',\n",
       " 'в',\n",
       " 'г',\n",
       " 'д',\n",
       " 'ж',\n",
       " 'з',\n",
       " 'й',\n",
       " 'к',\n",
       " 'л',\n",
       " 'м',\n",
       " 'н',\n",
       " 'п',\n",
       " 'р',\n",
       " 'с',\n",
       " 'т',\n",
       " 'х',\n",
       " 'ц',\n",
       " 'ч',\n",
       " 'ш',\n",
       " 'щ',\n",
       " 'ь'}"
      ]
     },
     "execution_count": 35,
     "metadata": {},
     "output_type": "execute_result"
    }
   ],
   "source": [
    "sentence = ''' Льготная ипотека с господдержкой почти мгновенно стала востребованной у покупателей жилья, \n",
    "            выступив основным драйвером спроса. «Инструмент льготной ипотеки — это реально работающая программа,\n",
    "            которая простимулировала многих граждан России улучшить свои жилищные условия или вложиться\n",
    "            в недвижимость инвестиционно, при этом существенно увеличив ценовые показатели рынка жилой недвижимости»,\n",
    "            — говорит региональный директор департамента жилой недвижимости и девелопмента земли Николирс Кирилл Голышев.\n",
    "            '''\n",
    "\n",
    "vowels = 'аеёиоуыэюя'\n",
    "marks = ' .,?!-:—;«»\\n'\n",
    "consonants = [char.lower() for char in sentence \n",
    "                      if char.lower() not in vowels and char not in marks]\n",
    "\n",
    "consonants_set = set(consonants)\n",
    "consonants_set"
   ]
  },
  {
   "cell_type": "code",
   "execution_count": 37,
   "id": "56e8adff-bffc-4317-aad6-d8761d770560",
   "metadata": {},
   "outputs": [
    {
     "data": {
      "text/plain": [
       "[1.23, 0, 3.62, 5.45, 0]"
      ]
     },
     "execution_count": 37,
     "metadata": {},
     "output_type": "execute_result"
    }
   ],
   "source": [
    "original_prices = [1.23, -8.64, 3.62, 5.45, -7.89, 0.98]\n",
    "prices = [i if i > 0 else 0 for i in original_prices if abs(i) > 1]\n",
    "prices"
   ]
  },
  {
   "cell_type": "code",
   "execution_count": 38,
   "id": "490e5e3d-e093-4d44-9cea-677eb60e1d47",
   "metadata": {},
   "outputs": [
    {
     "data": {
      "text/plain": [
       "{'б',\n",
       " 'в',\n",
       " 'г',\n",
       " 'д',\n",
       " 'ж',\n",
       " 'з',\n",
       " 'й',\n",
       " 'к',\n",
       " 'л',\n",
       " 'м',\n",
       " 'н',\n",
       " 'п',\n",
       " 'р',\n",
       " 'с',\n",
       " 'т',\n",
       " 'х',\n",
       " 'ц',\n",
       " 'ч',\n",
       " 'ш',\n",
       " 'щ',\n",
       " 'ь'}"
      ]
     },
     "execution_count": 38,
     "metadata": {},
     "output_type": "execute_result"
    }
   ],
   "source": [
    "sentence = ''' Льготная ипотека с господдержкой почти мгновенно стала востребованной у покупателей жилья, \n",
    "            выступив основным драйвером спроса. «Инструмент льготной ипотеки — это реально работающая программа,\n",
    "            которая простимулировала многих граждан России улучшить свои жилищные условия или вложиться\n",
    "            в недвижимость инвестиционно, при этом существенно увеличив ценовые показатели рынка жилой недвижимости»,\n",
    "            — говорит региональный директор департамента жилой недвижимости и девелопмента земли Николирс Кирилл Голышев.\n",
    "            '''\n",
    "\n",
    "vowels = 'аеёиоуыэюя'\n",
    "marks = ' .,?!-:—;«»\\n'\n",
    "consonantss = {char.lower() for char in sentence \n",
    "                      if char.lower() not in vowels and char not in marks}\n",
    "\n",
    "consonantss"
   ]
  },
  {
   "cell_type": "code",
   "execution_count": 41,
   "id": "2ef42e0c-3fd4-448e-8416-82ad3582561f",
   "metadata": {},
   "outputs": [
    {
     "data": {
      "text/plain": [
       "{0: 0, 1: 1, 2: 4, 3: 9, 4: 16, 5: 25, 6: 36, 7: 49, 8: 64, 9: 81}"
      ]
     },
     "execution_count": 41,
     "metadata": {},
     "output_type": "execute_result"
    }
   ],
   "source": [
    "squares = {i: i**2 for i in range(10)}\n",
    "squares"
   ]
  },
  {
   "cell_type": "code",
   "execution_count": 44,
   "id": "74942e52-f8bd-4f8a-9f6a-940204d3f60c",
   "metadata": {},
   "outputs": [
    {
     "name": "stdout",
     "output_type": "stream",
     "text": [
      "<class 'generator'>\n",
      "0\n",
      "1\n",
      "4\n",
      "9\n",
      "16\n",
      "25\n",
      "36\n",
      "49\n",
      "64\n",
      "81\n"
     ]
    },
    {
     "ename": "StopIteration",
     "evalue": "",
     "output_type": "error",
     "traceback": [
      "\u001b[1;31m---------------------------------------------------------------------------\u001b[0m",
      "\u001b[1;31mStopIteration\u001b[0m                             Traceback (most recent call last)",
      "Cell \u001b[1;32mIn[44], line 5\u001b[0m\n\u001b[0;32m      2\u001b[0m \u001b[38;5;28mprint\u001b[39m(\u001b[38;5;28mtype\u001b[39m(gen))\n\u001b[0;32m      4\u001b[0m \u001b[38;5;28;01mwhile\u001b[39;00m \u001b[38;5;28;01mTrue\u001b[39;00m:\n\u001b[1;32m----> 5\u001b[0m     \u001b[38;5;28mprint\u001b[39m(\u001b[38;5;28mnext\u001b[39m(gen))\n",
      "\u001b[1;31mStopIteration\u001b[0m: "
     ]
    }
   ],
   "source": [
    "gen = (i**2 for i in range(10))\n",
    "print(type(gen))\n",
    "\n",
    "while True:\n",
    "    print(next(gen))\n"
   ]
  },
  {
   "cell_type": "code",
   "execution_count": 45,
   "id": "3587ff5b-6248-4680-95d5-2a6f294eb37d",
   "metadata": {},
   "outputs": [
    {
     "name": "stdout",
     "output_type": "stream",
     "text": [
      "0.5495974000077695\n"
     ]
    }
   ],
   "source": [
    "import time\n",
    "\n",
    "t = time.perf_counter()\n",
    "sum([i * i for i in range(1000000)])\n",
    "print(time.perf_counter() - t)"
   ]
  },
  {
   "cell_type": "code",
   "execution_count": 46,
   "id": "e8c65fc5-fc26-45bf-879b-5082602195d1",
   "metadata": {},
   "outputs": [
    {
     "name": "stdout",
     "output_type": "stream",
     "text": [
      "0.4787508000154048\n"
     ]
    }
   ],
   "source": [
    "import time\n",
    "\n",
    "t = time.perf_counter()\n",
    "sum((i * i for i in range(1000000)))\n",
    "print(time.perf_counter() - t)"
   ]
  },
  {
   "cell_type": "code",
   "execution_count": 48,
   "id": "6e13b7ab-3223-42fd-b95f-af7666e382c7",
   "metadata": {},
   "outputs": [
    {
     "data": {
      "text/plain": [
       "[3, 30, 100]"
      ]
     },
     "execution_count": 48,
     "metadata": {},
     "output_type": "execute_result"
    }
   ],
   "source": [
    "def create_generator():\n",
    "    r = 3\n",
    "    yield r\n",
    "    r += r ** 3\n",
    "    yield r\n",
    "    yield 100\n",
    "\n",
    "list(create_generator())"
   ]
  },
  {
   "cell_type": "code",
   "execution_count": 50,
   "id": "cc02b551-3418-4539-8ba8-8c89a9581db6",
   "metadata": {},
   "outputs": [
    {
     "name": "stdout",
     "output_type": "stream",
     "text": [
      "0\n",
      "1\n",
      "2\n"
     ]
    }
   ],
   "source": [
    "def infinite_sequence():\n",
    "    num = 0\n",
    "    while True:\n",
    "        yield num\n",
    "        num += 1\n",
    "\n",
    "gen = infinite_sequence()\n",
    "print(next(gen))\n",
    "print(next(gen))\n",
    "print(next(gen))"
   ]
  },
  {
   "cell_type": "code",
   "execution_count": 51,
   "id": "f32ca63b-1869-441c-b01f-e50290e0862a",
   "metadata": {},
   "outputs": [
    {
     "name": "stdout",
     "output_type": "stream",
     "text": [
      "0\n",
      "1\n",
      "1\n",
      "2\n",
      "3\n",
      "5\n",
      "8\n",
      "13\n",
      "21\n",
      "34\n"
     ]
    }
   ],
   "source": [
    "def fib(n):\n",
    "    a, b = 0, 1\n",
    "    for _ in range(10):\n",
    "        yield a\n",
    "        a, b = b, a + b\n",
    "\n",
    "for v in fib(10):\n",
    "    print(v)    "
   ]
  },
  {
   "cell_type": "code",
   "execution_count": 52,
   "id": "a68cbcb4-b53e-444a-b067-8a34cc6beb73",
   "metadata": {},
   "outputs": [
    {
     "data": {
      "text/plain": [
       "10"
      ]
     },
     "execution_count": 52,
     "metadata": {},
     "output_type": "execute_result"
    }
   ],
   "source": [
    "5+5"
   ]
  },
  {
   "cell_type": "code",
   "execution_count": 53,
   "id": "57daa10a-5c3f-4d3b-89de-b6f3a9a5d381",
   "metadata": {},
   "outputs": [
    {
     "data": {
      "text/plain": [
       "10"
      ]
     },
     "execution_count": 53,
     "metadata": {},
     "output_type": "execute_result"
    }
   ],
   "source": [
    "_"
   ]
  },
  {
   "cell_type": "code",
   "execution_count": 54,
   "id": "efb9bc85-4fd1-4acc-a462-eae5b15ce7d4",
   "metadata": {},
   "outputs": [
    {
     "data": {
      "text/plain": [
       "20"
      ]
     },
     "execution_count": 54,
     "metadata": {},
     "output_type": "execute_result"
    }
   ],
   "source": [
    "_+10"
   ]
  },
  {
   "cell_type": "code",
   "execution_count": null,
   "id": "6ffceb36-c91b-4ee8-8bd4-23ae9e660890",
   "metadata": {},
   "outputs": [],
   "source": []
  }
 ],
 "metadata": {
  "kernelspec": {
   "display_name": "Python 3 (ipykernel)",
   "language": "python",
   "name": "python3"
  },
  "language_info": {
   "codemirror_mode": {
    "name": "ipython",
    "version": 3
   },
   "file_extension": ".py",
   "mimetype": "text/x-python",
   "name": "python",
   "nbconvert_exporter": "python",
   "pygments_lexer": "ipython3",
   "version": "3.12.4"
  }
 },
 "nbformat": 4,
 "nbformat_minor": 5
}
