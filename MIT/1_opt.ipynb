{
 "cells": [
  {
   "cell_type": "code",
   "execution_count": 22,
   "id": "fd3b882b-6a1a-46d1-b7ef-38bc7dce528e",
   "metadata": {},
   "outputs": [],
   "source": [
    "class Food(object):\n",
    "    def __init__(self, n, v, w):\n",
    "        self.name = n\n",
    "        self.value = v\n",
    "        self.calories = w\n",
    "\n",
    "    def getValue(self):\n",
    "        return self.value\n",
    "\n",
    "    def getCost(self):\n",
    "        return self.calories\n",
    "\n",
    "    def density(self):\n",
    "        return self.getValue()/self.getCost()\n",
    "\n",
    "    def __str__(self):\n",
    "        return self.name + ': <\"value\"' + str(self.value) + ', \"cost\"' + str(self.calories) + '>'"
   ]
  },
  {
   "cell_type": "code",
   "execution_count": 23,
   "id": "139a86b5-7b4e-47d5-9d33-a2919c49bdcb",
   "metadata": {},
   "outputs": [],
   "source": [
    "def buildMenu(names, values, calories):\n",
    "    \"\"\"names, values, calories lists of same length.\n",
    "    name a list of strings\n",
    "    values and calories lists of numbers\n",
    "    returns list of Foods\"\"\"\n",
    "    menu = []\n",
    "    for i in range(len(values)):\n",
    "        menu.append(Food(names[i], values[i], calories[i]))\n",
    "    return menu\n",
    "\n",
    "def greedy(items, maxCost, keyFunction):\n",
    "    \"\"\"Assumes items a list, maxCost >= 0,\n",
    "    keyFunction maps elements of items to numbers\"\"\"\n",
    "    itemsCopy = sorted(items, key = keyFunction, reverse = True)\n",
    "    result = []\n",
    "    totalValue, totalCost = 0.0, 0.0\n",
    "    for i in range(len(itemsCopy)):\n",
    "        if (totalCost+itemsCopy[i].getCost()) <= maxCost:\n",
    "            result.append(itemsCopy[i])\n",
    "            totalCost += itemsCopy[i].getCost()\n",
    "            totalValue += itemsCopy[i].getValue()\n",
    "    return (result, totalValue)\n",
    "\n",
    "def testGreedy(items, constraint, keyFunction):\n",
    "    taken, val = greedy(items, constraint, keyFunction)\n",
    "    print('Total value of items taken =', val)\n",
    "    for item in taken:\n",
    "        print(' ', item)\n",
    "        \n",
    "def testGreedys(foods, maxUnits):\n",
    "    print('Use greedy by value to allocate', maxUnits, 'calories')\n",
    "    testGreedy(foods, maxUnits, Food.getValue)\n",
    "    print('\\nUse greedy by cost to allocate', maxUnits, 'calories')\n",
    "    testGreedy(foods, maxUnits, lambda x: 1/Food.getCost(x))\n",
    "    print('\\nUse greedy by density to allocate', maxUnits, 'calories')\n",
    "    testGreedy(foods, maxUnits, Food.density)"
   ]
  },
  {
   "cell_type": "code",
   "execution_count": 32,
   "id": "c4375aee-3714-4f1d-9548-fc95b8bffc96",
   "metadata": {},
   "outputs": [],
   "source": [
    "names = ['wine', 'beer', 'pizza', 'burger', 'fries', 'cola', 'apple', 'donut', 'cake']\n",
    "values = [89,90,95,100,90,79,50,10]\n",
    "calories = [123,154,258,354,365,150,95,195]\n",
    "foods = buildMenu(names, values, calories)"
   ]
  },
  {
   "cell_type": "code",
   "execution_count": 33,
   "id": "9a733b1a-5225-44d4-acd6-c48345fd0950",
   "metadata": {},
   "outputs": [
    {
     "name": "stdout",
     "output_type": "stream",
     "text": [
      "Use greedy by value to allocate 750 calories\n",
      "Total value of items taken = 284.0\n",
      "  burger: <\"value\"100, \"cost\"354>\n",
      "  pizza: <\"value\"95, \"cost\"258>\n",
      "  wine: <\"value\"89, \"cost\"123>\n",
      "\n",
      "Use greedy by cost to allocate 750 calories\n",
      "Total value of items taken = 318.0\n",
      "  apple: <\"value\"50, \"cost\"95>\n",
      "  wine: <\"value\"89, \"cost\"123>\n",
      "  cola: <\"value\"79, \"cost\"150>\n",
      "  beer: <\"value\"90, \"cost\"154>\n",
      "  donut: <\"value\"10, \"cost\"195>\n",
      "\n",
      "Use greedy by density to allocate 750 calories\n",
      "Total value of items taken = 318.0\n",
      "  wine: <\"value\"89, \"cost\"123>\n",
      "  beer: <\"value\"90, \"cost\"154>\n",
      "  cola: <\"value\"79, \"cost\"150>\n",
      "  apple: <\"value\"50, \"cost\"95>\n",
      "  donut: <\"value\"10, \"cost\"195>\n"
     ]
    }
   ],
   "source": [
    "testGreedys(foods, 750)"
   ]
  },
  {
   "cell_type": "code",
   "execution_count": null,
   "id": "e2bd97e6-2963-480e-bf77-3b879eb1bfa9",
   "metadata": {},
   "outputs": [],
   "source": []
  }
 ],
 "metadata": {
  "kernelspec": {
   "display_name": "Python 3 (ipykernel)",
   "language": "python",
   "name": "python3"
  },
  "language_info": {
   "codemirror_mode": {
    "name": "ipython",
    "version": 3
   },
   "file_extension": ".py",
   "mimetype": "text/x-python",
   "name": "python",
   "nbconvert_exporter": "python",
   "pygments_lexer": "ipython3",
   "version": "3.7.0"
  }
 },
 "nbformat": 4,
 "nbformat_minor": 5
}
