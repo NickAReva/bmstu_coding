{
 "cells": [
  {
   "cell_type": "code",
   "execution_count": 2,
   "id": "d9575f5f-f482-4b9c-9421-2bbf6d45f18a",
   "metadata": {},
   "outputs": [
    {
     "name": "stdout",
     "output_type": "stream",
     "text": [
      "<class 'list'>\n"
     ]
    }
   ],
   "source": [
    "print(list)"
   ]
  },
  {
   "cell_type": "code",
   "execution_count": 3,
   "id": "44724676-638c-46bb-9260-a8d290e9eb6c",
   "metadata": {},
   "outputs": [
    {
     "name": "stdout",
     "output_type": "stream",
     "text": [
      "True\n"
     ]
    }
   ],
   "source": [
    "print(isinstance((1, 2, 3), tuple))"
   ]
  },
  {
   "cell_type": "code",
   "execution_count": 4,
   "id": "846762ea-3702-4aba-a7bb-f002a5c42bab",
   "metadata": {},
   "outputs": [],
   "source": [
    "class SpaceCraft():\n",
    "    default_carrier = \"P7\"\n",
    "\n",
    "    def __init__(self, carrier, model, crew_capacity):\n",
    "        if carrier == None:\n",
    "            self.carrier = SpaceCraft.default_carrier\n",
    "        else:\n",
    "            self.carrier = carrier\n",
    "        self.model = model\n",
    "        self.crew_capacity = crew_capacity\n",
    "    @staticmethod\n",
    "    def ex_static_method():\n",
    "        print('static method')\n",
    "    @classmethod\n",
    "    def ex_class_method(cls):\n",
    "        print('class method')\n",
    "    def ex_method(self):\n",
    "        print('method')"
   ]
  },
  {
   "cell_type": "code",
   "execution_count": 5,
   "id": "0cfc84d8-060c-4f23-b061-ce012546229a",
   "metadata": {},
   "outputs": [
    {
     "name": "stdout",
     "output_type": "stream",
     "text": [
      "static method\n"
     ]
    }
   ],
   "source": [
    "SpaceCraft.ex_static_method()"
   ]
  },
  {
   "cell_type": "code",
   "execution_count": 6,
   "id": "3ff3f786-f128-496a-a888-5775f2bf10fa",
   "metadata": {},
   "outputs": [
    {
     "name": "stdout",
     "output_type": "stream",
     "text": [
      "class method\n"
     ]
    }
   ],
   "source": [
    "SpaceCraft.ex_class_method()"
   ]
  },
  {
   "cell_type": "code",
   "execution_count": 10,
   "id": "66644b82-eac0-4ffe-81b9-8f80a659f843",
   "metadata": {},
   "outputs": [
    {
     "name": "stdout",
     "output_type": "stream",
     "text": [
      "method\n"
     ]
    }
   ],
   "source": [
    "fly = SpaceCraft(\"A\", \"AA\", 7)\n",
    "fly.ex_method()"
   ]
  },
  {
   "cell_type": "code",
   "execution_count": 12,
   "id": "18ce47b1-8d42-475c-8afb-09991d6f8719",
   "metadata": {},
   "outputs": [
    {
     "data": {
      "text/plain": [
       "{'N': None, 'I': None, 'K': None, 'O': None, 'L': None, 'A': None, 'Y': None}"
      ]
     },
     "execution_count": 12,
     "metadata": {},
     "output_type": "execute_result"
    }
   ],
   "source": [
    "dict.fromkeys('NIKOLAY')"
   ]
  },
  {
   "cell_type": "code",
   "execution_count": 17,
   "id": "10ed7ef8-5495-4d5d-b612-62eb570cfc4f",
   "metadata": {},
   "outputs": [
    {
     "data": {
      "text/plain": [
       "('Subaru', 5)"
      ]
     },
     "execution_count": 17,
     "metadata": {},
     "output_type": "execute_result"
    }
   ],
   "source": [
    "from datetime import date\n",
    "class Car:\n",
    "    def __init__(self, brand, age):\n",
    "        self.brand = brand\n",
    "        self.age = age\n",
    "\n",
    "    @classmethod\n",
    "    def from_production_year(cls, brand, prod_year):\n",
    "        return cls(brand, date.today().year - prod_year)\n",
    "\n",
    "    @staticmethod\n",
    "    def is_warranty_active(age):\n",
    "        return age < 3\n",
    "\n",
    "    def info(self):\n",
    "        print(\"Car: \" + self.brand)\n",
    "        print(\"Age: \" + str(self.age))\n",
    "        if self.is_warranty_active(self.age):\n",
    "            print(\"Warranty is ACTIVE\")\n",
    "        else:\n",
    "            print(\"Warranty is NOT ACTIVE\")\n",
    "    \n",
    "    def __del__(self):\n",
    "        print(\"The object is destroyed\")\n",
    "\n",
    "car1 = Car('Subaru', 5)\n",
    "car2 = Car.from_production_year('Skoda',2018)\n",
    "car1.brand, car1.age"
   ]
  },
  {
   "cell_type": "code",
   "execution_count": 28,
   "id": "aa45d078-a291-41cf-80b6-8766c28ac80c",
   "metadata": {},
   "outputs": [],
   "source": [
    "from math import sqrt"
   ]
  },
  {
   "cell_type": "code",
   "execution_count": 49,
   "id": "540b7e9e-059c-4754-8cbd-7a16c37168d6",
   "metadata": {},
   "outputs": [],
   "source": [
    "class SpaceCraft():\n",
    "    def __init__(self, model, x , y):\n",
    "        \"\"\"\n",
    "        Каждый космический корабль имеет положение в пространстве (x,y)\n",
    "        \"\"\"\n",
    "        self.x = x\n",
    "        self.y = y\n",
    "        self.__model = model\n",
    "    def get_model(self):\n",
    "        return self.__model\n",
    "    def set_model(self, model):\n",
    "        self.__model = model\n",
    "    def info(self):\n",
    "        return f\"Космический корбаль {self.__model} имеет координаты ({self.x}, {self.y})\""
   ]
  },
  {
   "cell_type": "code",
   "execution_count": 50,
   "id": "30ffe673-e022-4078-a481-fc559d896f2f",
   "metadata": {},
   "outputs": [],
   "source": [
    "class Shuttle(SpaceCraft):\n",
    "    \"\"\"\n",
    "    Шатл эмулирует многоразовый космический челнок\n",
    "    \"\"\"\n",
    "    def __init__(self, model, x, y, flights_completed):\n",
    "        super().__init__(model, x, y)\n",
    "        self.flights_completed = flights_completed\n",
    "    def info(self):\n",
    "        return f\"Космический корбаль {self.get_model()}, осуществивший {self.flights_completed} полетов ,имеет координаты ({self.x},{self.y})\""
   ]
  },
  {
   "cell_type": "code",
   "execution_count": 51,
   "id": "2ffb0fde-64ff-4a81-9824-6a56080a5511",
   "metadata": {},
   "outputs": [
    {
     "name": "stdout",
     "output_type": "stream",
     "text": [
      "Космический корбаль Endeavour, осуществивший 25 полетов ,имеет координаты (10,0)\n",
      "Космический корбаль Прогресс имеет координаты (14, 13)\n"
     ]
    }
   ],
   "source": [
    "def do_smth(obj):\n",
    "    print(obj.info())\n",
    "\n",
    "endeavour = Shuttle(\"Endeavour\",10,0,25)\n",
    "progress = SpaceCraft('Прогресс',14,13)\n",
    "\n",
    "do_smth(endeavour); do_smth(progress)"
   ]
  },
  {
   "cell_type": "code",
   "execution_count": 54,
   "id": "d5a59735-bc8b-4b9d-811d-058840504ec3",
   "metadata": {},
   "outputs": [],
   "source": [
    "from abc import ABC, abstractclassmethod\n",
    "\n",
    "class ChessPiece(ABC):\n",
    "    def draw(self):\n",
    "        print('Нарисовать шахматную фигуру')\n",
    "    @abstractclassmethod\n",
    "    def move(self):\n",
    "        \"\"\"\n",
    "        Абстрактный метод, который будет необходимо переобпределять во\n",
    "        всех неабстрактных проихводных классах\n",
    "        \"\"\""
   ]
  },
  {
   "cell_type": "code",
   "execution_count": 56,
   "id": "0ef347d1-2b01-437e-89aa-80b675985367",
   "metadata": {},
   "outputs": [
    {
     "name": "stdout",
     "output_type": "stream",
     "text": [
      "Нарисовать шахматную фигуру\n",
      "Ход ферзя e2e4\n"
     ]
    }
   ],
   "source": [
    "class Queen(ChessPiece):\n",
    "    def move(self):\n",
    "        print(\"Ход ферзя e2e4\")\n",
    "q = Queen()\n",
    "q.draw()\n",
    "q.move()"
   ]
  },
  {
   "cell_type": "code",
   "execution_count": 57,
   "id": "beae2f0c-a425-4ac4-8bae-94ca6738a882",
   "metadata": {},
   "outputs": [
    {
     "name": "stdout",
     "output_type": "stream",
     "text": [
      "Нарисовать шахматную фигуру\n",
      "Ход коня e5d7\n"
     ]
    }
   ],
   "source": [
    "class Knight(ChessPiece):\n",
    "    def move(self):\n",
    "        print('Ход коня e5d7')\n",
    "k = Knight()\n",
    "k.draw()\n",
    "k.move()"
   ]
  },
  {
   "cell_type": "code",
   "execution_count": null,
   "id": "e5d7974e-5514-49c2-bda8-ea13beb48028",
   "metadata": {},
   "outputs": [],
   "source": []
  }
 ],
 "metadata": {
  "kernelspec": {
   "display_name": "Python 3 (ipykernel)",
   "language": "python",
   "name": "python3"
  },
  "language_info": {
   "codemirror_mode": {
    "name": "ipython",
    "version": 3
   },
   "file_extension": ".py",
   "mimetype": "text/x-python",
   "name": "python",
   "nbconvert_exporter": "python",
   "pygments_lexer": "ipython3",
   "version": "3.12.4"
  }
 },
 "nbformat": 4,
 "nbformat_minor": 5
}
