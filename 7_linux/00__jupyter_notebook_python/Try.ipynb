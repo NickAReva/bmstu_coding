{
 "cells": [
  {
   "cell_type": "code",
   "execution_count": 7,
   "id": "6edf71a4-a7c4-41ce-b207-ce1366601e38",
   "metadata": {},
   "outputs": [],
   "source": [
    "import sqlite3 as sq\n",
    "from sqlite3 import Error"
   ]
  },
  {
   "cell_type": "code",
   "execution_count": 15,
   "id": "9e15e0e2-a603-4819-a6ad-f60622ae9714",
   "metadata": {},
   "outputs": [],
   "source": [
    "with open('C:/BMSTU_coding/bmstu_coding/7_linux/00__jupyter_notebook_python/dvdrental/restore.sql', 'r') as sql_file:\n",
    "    sql_script = sql_file.read()"
   ]
  },
  {
   "cell_type": "code",
   "execution_count": 16,
   "id": "4df478f4-bcba-4156-98c1-119c72aa203d",
   "metadata": {},
   "outputs": [
    {
     "ename": "NameError",
     "evalue": "name 'sqlite_file' is not defined",
     "output_type": "error",
     "traceback": [
      "\u001b[1;31m---------------------------------------------------------------------------\u001b[0m",
      "\u001b[1;31mNameError\u001b[0m                                 Traceback (most recent call last)",
      "\u001b[1;32m~\\AppData\\Local\\Temp\\ipykernel_15128\\3063908486.py\u001b[0m in \u001b[0;36m<module>\u001b[1;34m\u001b[0m\n\u001b[1;32m----> 1\u001b[1;33m \u001b[0mconn\u001b[0m \u001b[1;33m=\u001b[0m \u001b[0msqlite3\u001b[0m\u001b[1;33m.\u001b[0m\u001b[0mconnect\u001b[0m\u001b[1;33m(\u001b[0m\u001b[0msqlite_file\u001b[0m\u001b[1;33m)\u001b[0m\u001b[1;33m\u001b[0m\u001b[0m\n\u001b[0m",
      "\u001b[1;31mNameError\u001b[0m: name 'sqlite_file' is not defined"
     ]
    }
   ],
   "source": [
    "conn = sqlite3.connect(sqlite_file)"
   ]
  },
  {
   "cell_type": "code",
   "execution_count": null,
   "id": "dbce9235-edec-4ab5-90bf-409c0833b6b4",
   "metadata": {},
   "outputs": [],
   "source": []
  }
 ],
 "metadata": {
  "kernelspec": {
   "display_name": "Python 3 (ipykernel)",
   "language": "python",
   "name": "python3"
  },
  "language_info": {
   "codemirror_mode": {
    "name": "ipython",
    "version": 3
   },
   "file_extension": ".py",
   "mimetype": "text/x-python",
   "name": "python",
   "nbconvert_exporter": "python",
   "pygments_lexer": "ipython3",
   "version": "3.7.0"
  }
 },
 "nbformat": 4,
 "nbformat_minor": 5
}
